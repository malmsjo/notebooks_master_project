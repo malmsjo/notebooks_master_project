{
 "cells": [
  {
   "cell_type": "code",
   "execution_count": 1,
   "metadata": {},
   "outputs": [],
   "source": [
    "from sklearn.utils import class_weight"
   ]
  },
  {
   "cell_type": "code",
   "execution_count": null,
   "metadata": {},
   "outputs": [],
   "source": [
    "# getting class weights for when in classification mode\n",
    "if fit_method == 'classify':\n",
    "    class_gfp = []\n",
    "    for cell in train_gfp:\n",
    "        gfp = get_gfp(cell, stats=gfp_stats, rescale_method=gfp_rescale_method, \n",
    "                      fit_method=fit_method, gfp_thresh=gfp_stats[4])\n",
    "        class_gfp = np.append(class_gfp, gfp)\n",
    "    class_gfp = class_gfp.astype('int64')\n",
    "    weights = class_weight.compute_class_weight('balanced', np.unique(class_gfp), class_gfp)\n",
    "    print('weights = ' + str(weights))"
   ]
  },
  {
   "cell_type": "code",
   "execution_count": null,
   "metadata": {},
   "outputs": [],
   "source": [
    "if fit_method == 'classify':\n",
    "    history = model.fit_generator(\n",
    "        image_generator(train_cell, train_gfp, batch_size, cell_stats, gfp_stats, \n",
    "                        cell_rescale_method, gfp_rescale_method, fit_method),\n",
    "        steps_per_epoch=len(train_cell) // batch_size,\n",
    "        epochs = num_epochs,\n",
    "        validation_data = image_generator(valid_cell, valid_gfp, batch_size, cell_stats, gfp_stats,\n",
    "                                          cell_rescale_method, gfp_rescale_method, fit_method),\n",
    "        validation_steps = len(valid_cell) // batch_size,\n",
    "        callbacks = [save_best],\n",
    "        class_weight = weights,\n",
    "        verbose = 0\n",
    "    )"
   ]
  },
  {
   "cell_type": "code",
   "execution_count": null,
   "metadata": {},
   "outputs": [],
   "source": []
  }
 ],
 "metadata": {
  "kernelspec": {
   "display_name": "Python 3",
   "language": "python",
   "name": "python3"
  },
  "language_info": {
   "codemirror_mode": {
    "name": "ipython",
    "version": 3
   },
   "file_extension": ".py",
   "mimetype": "text/x-python",
   "name": "python",
   "nbconvert_exporter": "python",
   "pygments_lexer": "ipython3",
   "version": "3.6.9"
  }
 },
 "nbformat": 4,
 "nbformat_minor": 4
}
