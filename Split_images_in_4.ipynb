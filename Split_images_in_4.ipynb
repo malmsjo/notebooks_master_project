{
 "cells": [
  {
   "cell_type": "code",
   "execution_count": 1,
   "metadata": {},
   "outputs": [],
   "source": [
    "import numpy as np\n",
    "import cv2 \n",
    "import matplotlib.pyplot as plt\n",
    "import pandas as pd\n",
    "from PIL import Image\n",
    "import glob\n",
    "import os\n",
    "from os import *\n",
    "import re\n",
    "import imutils\n",
    "from skimage.feature import peak_local_max\n",
    "from skimage.morphology import watershed\n",
    "from scipy import ndimage\n",
    "import collections\n",
    "import shutil\n"
   ]
  },
  {
   "cell_type": "code",
   "execution_count": 2,
   "metadata": {},
   "outputs": [],
   "source": [
    "def atoi(text):\n",
    "   return int(text) if text.isdigit() else text\n",
    "def natural_keys(text):\n",
    "   return [atoi(c) for c in re.split('(\\d+)', text)]\n"
   ]
  },
  {
   "cell_type": "code",
   "execution_count": 3,
   "metadata": {},
   "outputs": [],
   "source": [
    "path = '/home/jovyan/DATA_MASTER_PROJECT/IMAGES_MASTER_PROJECT/full_size_img/'"
   ]
  },
  {
   "cell_type": "code",
   "execution_count": 4,
   "metadata": {},
   "outputs": [],
   "source": [
    "def get_time_point(path, time_point_1,time_point_2,time_point_3):   # time_point in form of 'Take #1 ' (remember the space between #1 ') or 'Take #32'\n",
    "\n",
    "    image_time_point = []\n",
    "\n",
    "    for dirname, dirnames,filenames in os.walk(path):\n",
    "\n",
    "\n",
    "\n",
    "        for filename in sorted(filenames, key = natural_keys):\n",
    "\n",
    "\n",
    "\n",
    "            if time_point_1 in filename or time_point_2 in filename or time_point_3 in filename:\n",
    "\n",
    "\n",
    "\n",
    "                im = cv2.imread(os.path.join(dirname, filename))\n",
    "\n",
    "\n",
    "\n",
    "                image_time_point.append(im)\n",
    "\n",
    "    return image_time_point   "
   ]
  },
  {
   "cell_type": "code",
   "execution_count": 5,
   "metadata": {},
   "outputs": [],
   "source": [
    "carte = get_time_point(path, 'B2', 'D5', 'F9')"
   ]
  },
  {
   "cell_type": "code",
   "execution_count": 6,
   "metadata": {},
   "outputs": [
    {
     "data": {
      "text/plain": [
       "12"
      ]
     },
     "execution_count": 6,
     "metadata": {},
     "output_type": "execute_result"
    }
   ],
   "source": [
    "len(carte)"
   ]
  },
  {
   "cell_type": "code",
   "execution_count": 7,
   "metadata": {},
   "outputs": [
    {
     "name": "stdout",
     "output_type": "stream",
     "text": [
      "(1024, 1024, 3)\n",
      "(1024, 1024, 3)\n",
      "(1024, 1024, 3)\n",
      "(1024, 1024, 3)\n",
      "(1024, 1024, 3)\n",
      "(1024, 1024, 3)\n",
      "(1024, 1024, 3)\n",
      "(1024, 1024, 3)\n",
      "(1024, 1024, 3)\n",
      "(1024, 1024, 3)\n",
      "(1024, 1024, 3)\n",
      "(1024, 1024, 3)\n"
     ]
    }
   ],
   "source": [
    "for i in carte:\n",
    "    print(i.shape)"
   ]
  },
  {
   "cell_type": "code",
   "execution_count": null,
   "metadata": {},
   "outputs": [],
   "source": []
  },
  {
   "cell_type": "code",
   "execution_count": null,
   "metadata": {},
   "outputs": [],
   "source": []
  },
  {
   "cell_type": "code",
   "execution_count": null,
   "metadata": {},
   "outputs": [],
   "source": []
  },
  {
   "cell_type": "code",
   "execution_count": null,
   "metadata": {},
   "outputs": [],
   "source": []
  },
  {
   "cell_type": "code",
   "execution_count": null,
   "metadata": {},
   "outputs": [],
   "source": []
  },
  {
   "cell_type": "code",
   "execution_count": null,
   "metadata": {},
   "outputs": [],
   "source": []
  },
  {
   "cell_type": "code",
   "execution_count": null,
   "metadata": {},
   "outputs": [],
   "source": []
  },
  {
   "cell_type": "code",
   "execution_count": null,
   "metadata": {},
   "outputs": [],
   "source": []
  },
  {
   "cell_type": "code",
   "execution_count": null,
   "metadata": {},
   "outputs": [],
   "source": []
  },
  {
   "cell_type": "code",
   "execution_count": 29,
   "metadata": {},
   "outputs": [],
   "source": [
    "def find_and_cut(path , time_point_1, time_point_2, time_point_3, save_path):\n",
    "\n",
    "    lista = get_time_point(path, time_point_1,time_point_2,time_point_3)\n",
    "    \n",
    "    cropped = []\n",
    "\n",
    "    for idx, i in enumerate(carte):\n",
    "\n",
    "        im_1 = carte[idx]\n",
    "\n",
    "        w = 256\n",
    "        h = 256\n",
    "\n",
    "        x = [256,768,256,768]\n",
    "        y = [256,256,768,768]\n",
    "\n",
    "        for ix, i in enumerate(x):\n",
    "\n",
    "            crop = im_1[(y[ix]-h):(y[ix]+h), (x[ix]-w):(x[ix]+w)]\n",
    "\n",
    "            cropped.append(crop)\n",
    "\n",
    "\n",
    "\n",
    "#     cropped = []\n",
    "\n",
    "#     for ix, i in enumerate(lista):\n",
    "\n",
    "#         im_1 = i[ix]\n",
    "\n",
    "#         w = 256\n",
    "#         h = 256\n",
    "\n",
    "#         crop_1 = im_1[(256-h):(256+h), (256-w):(256+w)]\n",
    "\n",
    "#         crop_2 = im_1[(256-h):(256+h), (768-w):(768+w)]\n",
    "\n",
    "#         crop_3 = im_1[(768-h):(768+h), (256-w):(256+w)]\n",
    "\n",
    "#         crop_4 = im_1[(768-h):(768+h), (768-w):(768+w)]\n",
    "\n",
    "\n",
    "#         cropped.extend([crop_1, crop_2, crop_3, crop_4])\n",
    "\n",
    "    for ls, i in enumerate(cropped):\n",
    "\n",
    "            im = Image.fromarray(i)\n",
    "\n",
    "            im.save(save_path.format(via, ls))   # exp 1 or 2 sonce they did dublicate studies \n",
    "\n",
    "\n",
    "    return cropped\n",
    "        \n",
    "    \n",
    "    \n",
    "    \n",
    "    \n",
    "    \n",
    "    "
   ]
  },
  {
   "cell_type": "code",
   "execution_count": 30,
   "metadata": {},
   "outputs": [],
   "source": [
    "via = '/home/jovyan/DATA_MASTER_PROJECT/IMAGES_MASTER_PROJECT/Split_4_images_CNN/'"
   ]
  },
  {
   "cell_type": "code",
   "execution_count": 33,
   "metadata": {},
   "outputs": [
    {
     "data": {
      "text/plain": [
       "48"
      ]
     },
     "execution_count": 33,
     "metadata": {},
     "output_type": "execute_result"
    }
   ],
   "source": [
    "croped_cell = find_and_cut(path, 'B8','D4','D10' , \"{0}/control_{1}_.tiff\")\n",
    "\n",
    "len(croped_cell)"
   ]
  },
  {
   "cell_type": "code",
   "execution_count": 34,
   "metadata": {},
   "outputs": [],
   "source": [
    "\n",
    "\n",
    "b8 =[['carteolol', 0]] * 48\n",
    "\n",
    "e8 =[['cinnar', 1]] * 48\n",
    "\n",
    "b2 = [['controll', 2]] * 48\n",
    "\n",
    "#c8 =[['C5', 3]] * 1992\n",
    "\n",
    "\n",
    "\n",
    "\n",
    "\n",
    "labels = b8 +  e8 +b2 \n",
    "\n"
   ]
  },
  {
   "cell_type": "code",
   "execution_count": 35,
   "metadata": {},
   "outputs": [],
   "source": [
    "df = pd.DataFrame(labels, columns = ['Type', 'Category'])"
   ]
  },
  {
   "cell_type": "code",
   "execution_count": 36,
   "metadata": {},
   "outputs": [],
   "source": [
    "\n",
    "df.to_csv(\"/home/jovyan/DATA_MASTER_PROJECT/Class_labels_FULL_IMG_t_97.csv\", sep=',',index=False)"
   ]
  },
  {
   "cell_type": "code",
   "execution_count": null,
   "metadata": {},
   "outputs": [],
   "source": []
  },
  {
   "cell_type": "code",
   "execution_count": null,
   "metadata": {},
   "outputs": [],
   "source": []
  },
  {
   "cell_type": "code",
   "execution_count": null,
   "metadata": {},
   "outputs": [],
   "source": []
  },
  {
   "cell_type": "code",
   "execution_count": null,
   "metadata": {},
   "outputs": [],
   "source": []
  }
 ],
 "metadata": {
  "kernelspec": {
   "display_name": "Python 3",
   "language": "python",
   "name": "python3"
  },
  "language_info": {
   "codemirror_mode": {
    "name": "ipython",
    "version": 3
   },
   "file_extension": ".py",
   "mimetype": "text/x-python",
   "name": "python",
   "nbconvert_exporter": "python",
   "pygments_lexer": "ipython3",
   "version": "3.6.9"
  }
 },
 "nbformat": 4,
 "nbformat_minor": 4
}
