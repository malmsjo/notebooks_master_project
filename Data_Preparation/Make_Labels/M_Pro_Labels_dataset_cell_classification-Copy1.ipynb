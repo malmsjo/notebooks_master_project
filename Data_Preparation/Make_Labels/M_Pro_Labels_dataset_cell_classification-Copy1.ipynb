{
 "cells": [
  {
   "cell_type": "code",
   "execution_count": 1,
   "metadata": {},
   "outputs": [],
   "source": [
    "import numpy as np\n",
    "import cv2 \n",
    "import matplotlib.pyplot as plt\n",
    "import pandas as pd\n",
    "from PIL import Image\n",
    "import glob\n",
    "import os\n",
    "from os import *\n",
    "import re\n",
    "import imutils\n",
    "from skimage.feature import peak_local_max\n",
    "from skimage.morphology import watershed\n",
    "from scipy import ndimage\n",
    "import collections\n",
    "import tqdm"
   ]
  },
  {
   "cell_type": "code",
   "execution_count": 2,
   "metadata": {},
   "outputs": [],
   "source": [
    "def atoi(text):\n",
    "    return int(text) if text.isdigit() else text\n",
    "def natural_keys(text):\n",
    "    return [atoi(c) for c in re.split('(\\d+)', text)]\n"
   ]
  },
  {
   "cell_type": "code",
   "execution_count": 3,
   "metadata": {},
   "outputs": [],
   "source": [
    "#p = '/home/jovyan/DATA_MASTER_PROJECT/FINAL_Data/3_classes_1_t_MEDIUM/train_full_size/'"
   ]
  },
  {
   "cell_type": "code",
   "execution_count": null,
   "metadata": {},
   "outputs": [],
   "source": [
    "t = []\n",
    "for i in listdir(p):\n",
    "    im =cv2.imread(p+i)\n",
    "    if np.count_nonzero(im == 255) < 7000:\n",
    "        t.append(im)"
   ]
  },
  {
   "cell_type": "code",
   "execution_count": null,
   "metadata": {},
   "outputs": [],
   "source": [
    "len(t)"
   ]
  },
  {
   "cell_type": "code",
   "execution_count": 4,
   "metadata": {},
   "outputs": [],
   "source": [
    "def get_time_point(path, time_point_1,time_point_2 ,time_point_3,time_point_4,time_point_5,time_point_6):   # time_point in form of 'Take #1 ' (remember the space between #1 ') or 'Take #32'\n",
    "\n",
    "    image_time_point = []\n",
    "    well_name = []\n",
    "\n",
    "    for dirname, dirnames,filenames in os.walk(path):\n",
    "\n",
    "\n",
    "\n",
    "        for filename in sorted(filenames, key = natural_keys):\n",
    "\n",
    "\n",
    "\n",
    "            if time_point_1 in filename or time_point_2 in filename or time_point_3 in filename or time_point_4 in filename or time_point_5 in filename or time_point_5 in filename:\n",
    "\n",
    "\n",
    "\n",
    "                im = cv2.imread(os.path.join(dirname, filename))\n",
    "                \n",
    "                if np.count_nonzero(im == 255) < 30000000:\n",
    "        \n",
    "                \n",
    "            \n",
    "                    image_time_point.append(im)\n",
    "                    well_name.append(filename)\n",
    "\n",
    "    return image_time_point, well_name   "
   ]
  },
  {
   "cell_type": "code",
   "execution_count": 5,
   "metadata": {},
   "outputs": [],
   "source": [
    "def find_and_cut(path_img,time_point_1,time_point_2,time_point_3,time_point_4,time_point_5,time_point_6, save_path): #'Take #1 ', # \"{0}/sk_{1}_exp_2_time_1.tiff\"\n",
    "\n",
    "    t_1,s = get_time_point(path_img,time_point_1,time_point_2,time_point_3,time_point_4,time_point_5,time_point_6)\n",
    "\n",
    "    tot_dict = {}\n",
    "\n",
    "    for idx, image in tqdm.tqdm(enumerate(t_1)):\n",
    "\n",
    "        dict_1 = {}\n",
    "\n",
    "        cx = []\n",
    "        cy = []\n",
    "\n",
    "        shifted = cv2.pyrMeanShiftFiltering(image, 10, 50)\n",
    "        gray = cv2.cvtColor(shifted,cv2.COLOR_BGR2GRAY)\n",
    "        thresh = cv2.threshold(gray, 0, 255, cv2.THRESH_BINARY | cv2.THRESH_OTSU)[1]\n",
    "        D = ndimage.distance_transform_edt(thresh)\n",
    "        localMax = peak_local_max(D, indices=False, min_distance=9, labels=thresh)\n",
    "        markers = ndimage.label(localMax, structure=np.ones((3, 3)))[0]\n",
    "        labels = watershed(-D, markers, mask=thresh)\n",
    "\n",
    "\n",
    "\n",
    "        for label in np.unique(labels):\n",
    "            if label == 0:\n",
    "                continue\n",
    "\n",
    "\n",
    "\n",
    "\n",
    "            mask = np.zeros(gray.shape, dtype='uint8')\n",
    "            mask[labels == label] = 255\n",
    "            cnts = cv2.findContours(mask.copy(), cv2.RETR_EXTERNAL, cv2.CHAIN_APPROX_NONE)\n",
    "            cnts = imutils.grab_contours(cnts)\n",
    "            c = max(cnts, key=cv2.contourArea)\n",
    "            ((x, y), r) = cv2.minEnclosingCircle(c)\n",
    "\n",
    "\n",
    "\n",
    "            cx.append(int(x))\n",
    "            cy.append(int(y))\n",
    "\n",
    "\n",
    "            data = {'X':cx,'Y':cy}\n",
    "\n",
    "            data = pd.DataFrame(data)\n",
    "\n",
    "\n",
    "        dict_1[idx] = data\n",
    "\n",
    "        tot_dict.update(dict_1)\n",
    "\n",
    "\n",
    "    t_1_1,s = get_time_point(path_img, time_point_1,time_point_2,time_point_3, time_point_4,time_point_5,time_point_6)\n",
    "\n",
    "\n",
    "    value_dict = []\n",
    "\n",
    "    for k, v in sorted(tot_dict.items()):\n",
    "        value_dict.append(v)\n",
    "\n",
    "\n",
    "    name_well = []\n",
    "    \n",
    "    for i in s:\n",
    "        name_well.append(i.split(' ')[1].split(' ')[0])\n",
    "    \n",
    "    \n",
    "    \n",
    "    crop_cell_1 = []\n",
    "    \n",
    "    n_well = []\n",
    "\n",
    "    for idx , (i,n) in enumerate(zip(t_1_1,name_well)):\n",
    "\n",
    "        img = t_1_1[idx]\n",
    "    \n",
    "        st = name_well[idx]\n",
    "\n",
    "        x = []\n",
    "        y = []\n",
    "\n",
    "        for i in range(len(value_dict[idx])):\n",
    "            x.append(value_dict[idx].iloc[i,0])      \n",
    "            y.append(value_dict[idx].iloc[i,1])\n",
    "\n",
    "\n",
    "        w = 45\n",
    "        h = 45\n",
    "\n",
    "        for ix, i in enumerate(x):\n",
    "\n",
    "            crop = img[(y[ix]-h):(y[ix]+h), (x[ix]-w):(x[ix]+w)]\n",
    "\n",
    "            if crop.size == 24300:\n",
    "                \n",
    "                \n",
    "                crop_cell_1.append(crop)\n",
    "                n_well.append([st])\n",
    "\n",
    "\n",
    "\n",
    "    na_well = [s for i in n_well for s in i]\n",
    "    for ls, (i,_) in enumerate(zip(crop_cell_1,na_well)):\n",
    "\n",
    "        im = Image.fromarray(i)\n",
    "\n",
    "        im.save(save_path.format(via,na_well[ls], ls))   # exp 1 or 2 sonce they did dublicate studies \n",
    "\n",
    "    return len(crop_cell_1), len(na_well)"
   ]
  },
  {
   "cell_type": "code",
   "execution_count": 6,
   "metadata": {},
   "outputs": [],
   "source": [
    "via = '/home/jovyan/DATA_MASTER_PROJECT/FINAL_Data/3_classes_t_96_HIGH/croppped_test'\n",
    "directory = os.mkdir(via) "
   ]
  },
  {
   "cell_type": "code",
   "execution_count": 7,
   "metadata": {},
   "outputs": [],
   "source": [
    "p = '/home/jovyan/DATA_MASTER_PROJECT/FINAL_Data/3_classes_t_96_HIGH/test_full_size/'\n",
    "path_img = p\n"
   ]
  },
  {
   "cell_type": "code",
   "execution_count": 12,
   "metadata": {},
   "outputs": [
    {
     "name": "stderr",
     "output_type": "stream",
     "text": [
      "144it [01:35,  1.51it/s]\n"
     ]
    },
    {
     "data": {
      "text/plain": [
       "(6463, 6463)"
      ]
     },
     "execution_count": 12,
     "metadata": {},
     "output_type": "execute_result"
    }
   ],
   "source": [
    "croped_cell, name = find_and_cut(path_img, 'E10','B11','D8','B2','NONE','NONE' , \"{0}/HRH_{1}_{2}.tiff\")\n",
    "\n",
    "croped_cell, name"
   ]
  },
  {
   "cell_type": "code",
   "execution_count": 14,
   "metadata": {},
   "outputs": [],
   "source": [
    "\n",
    "\n",
    "a0 = [['controll', 0]] * 8391\n",
    "\n",
    "a1 =[['ADR', 1]] * (10761 + 8762)\n",
    "\n",
    "a2 =[['HRH', 2]] * (11081 + 6463)\n",
    "\n",
    "#a3 =[['mast', 3]] * 50\n",
    "\n",
    "# a4 =[['misoprostol', 4]] * 8371\n",
    "\n",
    "# a5 =[['molindone', 5]] * 6766\n",
    "\n",
    "# a6 =[['nadol', 6]] * 7420\n",
    "\n",
    "# a7 =[['nadol', 7]] * 7420\n",
    "\n",
    "\n",
    "\n",
    "labels = a1+a0+a2#+a2#+a2+a3+a4+a5+a6\n",
    "\n"
   ]
  },
  {
   "cell_type": "code",
   "execution_count": 15,
   "metadata": {},
   "outputs": [],
   "source": [
    "df = pd.DataFrame(labels, columns = ['Type', 'Category'])\n",
    "df = df.sort_values(by=['Type'])"
   ]
  },
  {
   "cell_type": "code",
   "execution_count": 16,
   "metadata": {},
   "outputs": [],
   "source": [
    "\n",
    "df.to_csv(\"/home/jovyan/DATA_MASTER_PROJECT/FINAL_Data/3_classes_t_96_HIGH/test_labels.csv\", sep=',',index=False)"
   ]
  },
  {
   "cell_type": "code",
   "execution_count": null,
   "metadata": {},
   "outputs": [],
   "source": [
    "labels"
   ]
  },
  {
   "cell_type": "code",
   "execution_count": null,
   "metadata": {},
   "outputs": [],
   "source": []
  }
 ],
 "metadata": {
  "kernelspec": {
   "display_name": "Python 3",
   "language": "python",
   "name": "python3"
  },
  "language_info": {
   "codemirror_mode": {
    "name": "ipython",
    "version": 3
   },
   "file_extension": ".py",
   "mimetype": "text/x-python",
   "name": "python",
   "nbconvert_exporter": "python",
   "pygments_lexer": "ipython3",
   "version": "3.6.9"
  }
 },
 "nbformat": 4,
 "nbformat_minor": 4
}
