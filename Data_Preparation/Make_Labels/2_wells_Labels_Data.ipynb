{
 "cells": [
  {
   "cell_type": "code",
   "execution_count": 1,
   "metadata": {},
   "outputs": [],
   "source": [
    "import numpy as np\n",
    "import cv2 \n",
    "import matplotlib.pyplot as plt\n",
    "import pandas as pd\n",
    "from PIL import Image\n",
    "import glob\n",
    "import os\n",
    "from os import *\n",
    "import re\n",
    "import imutils\n",
    "from skimage.feature import peak_local_max\n",
    "from skimage.morphology import watershed\n",
    "from scipy import ndimage\n",
    "import collections"
   ]
  },
  {
   "cell_type": "code",
   "execution_count": 2,
   "metadata": {},
   "outputs": [],
   "source": [
    "def atoi(text):\n",
    "    return int(text) if text.isdigit() else text\n",
    "def natural_keys(text):\n",
    "    return [atoi(c) for c in re.split('(\\d+)', text)]\n"
   ]
  },
  {
   "cell_type": "code",
   "execution_count": 3,
   "metadata": {},
   "outputs": [],
   "source": [
    "p = '/home/jovyan/DATA_MASTER_PROJECT/A549/Differente_fields_of_view/test_full/'\n",
    "\n",
    "t = []\n",
    "for i in listdir(p):\n",
    "    im =cv2.imread(p+i)\n",
    "    t.append(im)"
   ]
  },
  {
   "cell_type": "code",
   "execution_count": 4,
   "metadata": {},
   "outputs": [
    {
     "data": {
      "text/plain": [
       "60"
      ]
     },
     "execution_count": 4,
     "metadata": {},
     "output_type": "execute_result"
    }
   ],
   "source": [
    "len(t)"
   ]
  },
  {
   "cell_type": "code",
   "execution_count": 5,
   "metadata": {},
   "outputs": [],
   "source": [
    "def get_time_point(path, time_point_1,time_point_2 ):   # time_point in form of 'Take #1 ' (remember the space between #1 ') or 'Take #32'\n",
    "\n",
    "    image_time_point = []\n",
    "\n",
    "    for dirname, dirnames,filenames in os.walk(path):\n",
    "\n",
    "\n",
    "\n",
    "        for filename in sorted(filenames, key = natural_keys):\n",
    "\n",
    "\n",
    "\n",
    "            if time_point_1 in filename or time_point_2 in filename:\n",
    "\n",
    "\n",
    "\n",
    "                im = cv2.imread(os.path.join(dirname, filename))\n",
    "\n",
    "\n",
    "\n",
    "                image_time_point.append(im)\n",
    "\n",
    "    return image_time_point   "
   ]
  },
  {
   "cell_type": "code",
   "execution_count": 6,
   "metadata": {},
   "outputs": [],
   "source": [
    "# def get_time_point(path):   # time_point in form of 'Take #1 ' (remember the space between #1 ') or 'Take #32'\n",
    "\n",
    "#     image_time_point = []\n",
    "\n",
    "#     for i in listdir(path):\n",
    "#         im =cv2.imread(path+i)\n",
    "    \n",
    "#         image_time_point.append(im)\n",
    "\n",
    "#     return image_time_point   "
   ]
  },
  {
   "cell_type": "code",
   "execution_count": 7,
   "metadata": {},
   "outputs": [],
   "source": [
    "def find_and_cut(path_img,time_point_1,time_point_2, save_path): #'Take #1 ', # \"{0}/sk_{1}_exp_2_time_1.tiff\"\n",
    "\n",
    "    t_1 = get_time_point(path_img,time_point_1,time_point_2)\n",
    "\n",
    "    tot_dict = {}\n",
    "\n",
    "    for idx, image in enumerate(t_1):\n",
    "\n",
    "        dict_1 = {}\n",
    "\n",
    "        cx = []\n",
    "        cy = []\n",
    "\n",
    "        shifted = cv2.pyrMeanShiftFiltering(image, 10, 50)\n",
    "        gray = cv2.cvtColor(shifted,cv2.COLOR_BGR2GRAY)\n",
    "        thresh = cv2.threshold(gray, 0, 255, cv2.THRESH_BINARY | cv2.THRESH_OTSU)[1]\n",
    "        D = ndimage.distance_transform_edt(thresh)\n",
    "        localMax = peak_local_max(D, indices=False, min_distance=20, labels=thresh)\n",
    "        markers = ndimage.label(localMax, structure=np.ones((3, 3)))[0]\n",
    "        labels = watershed(-D, markers, mask=thresh)\n",
    "\n",
    "\n",
    "\n",
    "        for label in np.unique(labels):\n",
    "            if label == 0:\n",
    "                continue\n",
    "\n",
    "\n",
    "\n",
    "\n",
    "            mask = np.zeros(gray.shape, dtype='uint8')\n",
    "            mask[labels == label] = 255\n",
    "            cnts = cv2.findContours(mask.copy(), cv2.RETR_EXTERNAL, cv2.CHAIN_APPROX_NONE)\n",
    "            cnts = imutils.grab_contours(cnts)\n",
    "            c = max(cnts, key=cv2.contourArea)\n",
    "            ((x, y), r) = cv2.minEnclosingCircle(c)\n",
    "\n",
    "\n",
    "\n",
    "            cx.append(int(x))\n",
    "            cy.append(int(y))\n",
    "\n",
    "\n",
    "            data = {'X':cx,'Y':cy}\n",
    "\n",
    "            data = pd.DataFrame(data)\n",
    "\n",
    "\n",
    "        dict_1[idx] = data\n",
    "\n",
    "        tot_dict.update(dict_1)\n",
    "\n",
    "\n",
    "    t_1_1 = get_time_point(path_img, time_point_1,time_point_2)\n",
    "\n",
    "\n",
    "    value_dict = []\n",
    "\n",
    "    for k, v in sorted(tot_dict.items()):\n",
    "        value_dict.append(v)\n",
    "\n",
    "\n",
    "\n",
    "    crop_cell_1 = []\n",
    "\n",
    "    for idx , i in enumerate(t_1_1):\n",
    "\n",
    "        img = t_1_1[idx]\n",
    "\n",
    "\n",
    "\n",
    "        x = []\n",
    "        y = []\n",
    "\n",
    "        for i in range(len(value_dict[idx])):\n",
    "            x.append(value_dict[idx].iloc[i,0])      \n",
    "            y.append(value_dict[idx].iloc[i,1])\n",
    "\n",
    "\n",
    "        w = 45\n",
    "        h = 45\n",
    "\n",
    "        for ix, i in enumerate(x):\n",
    "\n",
    "            crop = img[(y[ix]-h):(y[ix]+h), (x[ix]-w):(x[ix]+w)]\n",
    "\n",
    "            if crop.size == 24300: \n",
    "\n",
    "                crop_cell_1.append(crop)\n",
    "\n",
    "\n",
    "\n",
    "\n",
    "\n",
    "    for ls, i in enumerate(crop_cell_1):\n",
    "\n",
    "        im = Image.fromarray(i)\n",
    "\n",
    "        im.save(save_path.format(via, ls))   # exp 1 or 2 sonce they did dublicate studies \n",
    "\n",
    "    return crop_cell_1"
   ]
  },
  {
   "cell_type": "code",
   "execution_count": 8,
   "metadata": {},
   "outputs": [],
   "source": [
    "via = '/home/jovyan/DATA_MASTER_PROJECT/A549/Differente_fields_of_view/cropped_test'\n",
    "directory = os.mkdir(via) "
   ]
  },
  {
   "cell_type": "code",
   "execution_count": 9,
   "metadata": {},
   "outputs": [],
   "source": [
    "path_img = p\n"
   ]
  },
  {
   "cell_type": "code",
   "execution_count": 12,
   "metadata": {},
   "outputs": [
    {
     "data": {
      "text/plain": [
       "732"
      ]
     },
     "execution_count": 12,
     "metadata": {},
     "output_type": "execute_result"
    }
   ],
   "source": [
    "croped_cell = find_and_cut(path_img, 'E3','G3' , \"{0}/controll{1}_.tiff\")\n",
    "\n",
    "len(croped_cell)"
   ]
  },
  {
   "cell_type": "code",
   "execution_count": 13,
   "metadata": {},
   "outputs": [],
   "source": [
    "\n",
    "\n",
    "a0 = [['controll', 0]] * 732\n",
    "\n",
    "a1 =[['dilamrate', 1]] * 2206\n",
    "\n",
    "a2 =[['peroxide', 2]] * 918\n",
    "\n",
    "#a3 =[['mast', 3]] * 50\n",
    "\n",
    "# a4 =[['misoprostol', 4]] * 8371\n",
    "\n",
    "# a5 =[['molindone', 5]] * 6766\n",
    "\n",
    "# a6 =[['nadol', 6]] * 7420\n",
    "\n",
    "# a7 =[['nadol', 7]] * 7420\n",
    "\n",
    "\n",
    "\n",
    "labels = a1+a0+a2#+a2#+a2+a3+a4+a5+a6\n",
    "\n"
   ]
  },
  {
   "cell_type": "code",
   "execution_count": 14,
   "metadata": {},
   "outputs": [],
   "source": [
    "df = pd.DataFrame(labels, columns = ['Type', 'Category'])\n",
    "df = df.sort_values(by=['Type'])"
   ]
  },
  {
   "cell_type": "code",
   "execution_count": 15,
   "metadata": {},
   "outputs": [],
   "source": [
    "\n",
    "df.to_csv(\"/home/jovyan/DATA_MASTER_PROJECT/A549/Differente_fields_of_view/test_labels.csv\", sep=',',index=False)"
   ]
  },
  {
   "cell_type": "code",
   "execution_count": null,
   "metadata": {},
   "outputs": [],
   "source": []
  }
 ],
 "metadata": {
  "kernelspec": {
   "display_name": "Python 3",
   "language": "python",
   "name": "python3"
  },
  "language_info": {
   "codemirror_mode": {
    "name": "ipython",
    "version": 3
   },
   "file_extension": ".py",
   "mimetype": "text/x-python",
   "name": "python",
   "nbconvert_exporter": "python",
   "pygments_lexer": "ipython3",
   "version": "3.6.9"
  }
 },
 "nbformat": 4,
 "nbformat_minor": 4
}
