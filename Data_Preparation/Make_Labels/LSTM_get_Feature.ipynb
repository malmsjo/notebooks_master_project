{
 "cells": [
  {
   "cell_type": "code",
   "execution_count": 1,
   "metadata": {},
   "outputs": [],
   "source": [
    "import tensorflow as tf\n",
    "from tensorflow import keras\n",
    "from tensorflow.keras.models import Model\n",
    "from tensorflow.keras.models import load_model\n",
    "from tensorflow.keras.layers import BatchNormalization\n",
    "import numpy as np\n",
    "import matplotlib.pyplot as plt\n",
    "import pandas as pd\n",
    "from PIL import Image \n",
    "import seaborn as sns\n",
    "import os\n",
    "import re\n",
    "import glob\n",
    "import cv2\n",
    "from sklearn.metrics import classification_report\n",
    "from sklearn.metrics import confusion_matrix\n",
    "from sklearn.utils.multiclass import unique_labels\n",
    "from sklearn import preprocessing\n",
    "import tqdm\n",
    "from numpy import loadtxt\n",
    "import shutil\n",
    "\n",
    "from scipy.stats import uniform, randint\n",
    "\n",
    "from sklearn.decomposition import PCA\n",
    "from sklearn.preprocessing import StandardScaler, RobustScaler, MinMaxScaler\n",
    "\n",
    "from sklearn.model_selection import cross_val_score, GridSearchCV, KFold, RandomizedSearchCV, train_test_split\n",
    "from tensorflow.keras.applications.vgg16 import preprocess_input"
   ]
  },
  {
   "cell_type": "code",
   "execution_count": 2,
   "metadata": {},
   "outputs": [],
   "source": [
    "def atoi(text):\n",
    "    return int(text) if text.isdigit() else text\n",
    "def natural_keys(text):\n",
    "    return [atoi(c) for c in re.split('(\\d+)', text)]"
   ]
  },
  {
   "cell_type": "code",
   "execution_count": 3,
   "metadata": {},
   "outputs": [],
   "source": [
    "def return_count(x):\n",
    "    name_wel = []\n",
    "    for i in x:\n",
    "        name_wel.append(i.split('_features')[0])\n",
    "\n",
    "    z = list(set(name_wel))\n",
    "    r = list(range(len(z)))\n",
    "\n",
    "    num = []\n",
    "    for iz in range(len(z)):\n",
    "        count = 0\n",
    "        for i in x:\n",
    "            if z[iz] in i:\n",
    "                count += 1\n",
    "        num.append(count)\n",
    "    return list(zip(z, r, num))"
   ]
  },
  {
   "cell_type": "code",
   "execution_count": 4,
   "metadata": {},
   "outputs": [],
   "source": [
    "def creat_label(y, indirizo):\n",
    "    labels = []\n",
    "    for ix, _ in enumerate(y):\n",
    "        labels.append([[y[ix][0],y[ix][1]]] * y[ix][2])\n",
    "    \n",
    "    ler = [i for sub in labels for i in sub ]\n",
    "\n",
    "    df = pd.DataFrame(ler, columns = ['Type', 'Category'])\n",
    "    df = df.sort_values(by=['Type'])\n",
    "    df.to_csv(indirizo, sep=',',index=False)\n",
    "    return 'Done'"
   ]
  },
  {
   "cell_type": "code",
   "execution_count": 5,
   "metadata": {},
   "outputs": [],
   "source": [
    "def resize():\n",
    "    rescaled = []\n",
    "\n",
    "    for i in x_orig_1:\n",
    "\n",
    "        scale_percent = 140 # percent of original size\n",
    "        width = int(i.shape[1] / (scale_percent / 100))\n",
    "        height = int(i.shape[0] / (scale_percent / 100))\n",
    "        dim = (width, height)\n",
    "        resized = cv2.resize(i, dim, interpolation = cv2.INTER_LANCZOS4)\n",
    "        rescaled.append(resized)\n",
    "\n",
    "    x_orig = np.reshape( rescaled, (len( rescaled), resized.shape[1], resized.shape[1], 3))\n",
    "\n",
    "    return x_orig"
   ]
  },
  {
   "cell_type": "code",
   "execution_count": 6,
   "metadata": {},
   "outputs": [],
   "source": [
    "p = '/home/jovyan/Saved_Models/CNN_same_fields_view_ADR_HRH.h5'\n",
    "m4 = load_model(p)"
   ]
  },
  {
   "cell_type": "code",
   "execution_count": 7,
   "metadata": {},
   "outputs": [
    {
     "name": "stdout",
     "output_type": "stream",
     "text": [
      "Model: \"sequential\"\n",
      "_________________________________________________________________\n",
      "Layer (type)                 Output Shape              Param #   \n",
      "=================================================================\n",
      "model (Model)                (None, 8, 8, 256)         1735488   \n",
      "_________________________________________________________________\n",
      "batch_normalization (BatchNo (None, 8, 8, 256)         1024      \n",
      "_________________________________________________________________\n",
      "global_average_pooling2d (Gl (None, 256)               0         \n",
      "_________________________________________________________________\n",
      "batch_normalization_1 (Batch (None, 256)               1024      \n",
      "_________________________________________________________________\n",
      "activation (Activation)      (None, 256)               0         \n",
      "_________________________________________________________________\n",
      "dense (Dense)                (None, 64)                16448     \n",
      "_________________________________________________________________\n",
      "dense_1 (Dense)              (None, 1)                 65        \n",
      "=================================================================\n",
      "Total params: 1,754,049\n",
      "Trainable params: 1,753,025\n",
      "Non-trainable params: 1,024\n",
      "_________________________________________________________________\n"
     ]
    }
   ],
   "source": [
    "m4.summary()"
   ]
  },
  {
   "cell_type": "code",
   "execution_count": 8,
   "metadata": {},
   "outputs": [],
   "source": [
    "base_model = Model(inputs=m4.input, outputs=m4.get_layer('dense').output)\n"
   ]
  },
  {
   "cell_type": "code",
   "execution_count": 11,
   "metadata": {},
   "outputs": [
    {
     "name": "stderr",
     "output_type": "stream",
     "text": [
      "100%|██████████| 72/72 [00:55<00:00,  1.30it/s]\n"
     ]
    }
   ],
   "source": [
    "path =  '/home/jovyan/DATA_MASTER_PROJECT/Check_DIFF_T60_T_97/2_class_ADRR_HRH/VALIDATION/'\n",
    "\n",
    "name_well = []\n",
    "for di,dr,f in os.walk(path):\n",
    "    for i in f:\n",
    "        name_well.append(i.split('_id')[0])\n",
    "\n",
    "wells = list(set(name_well))\n",
    "wells\n",
    "\n",
    "for w in tqdm.tqdm(wells):\n",
    "\n",
    "    time = []\n",
    "    for dirname, dirnames,filenames in os.walk(path):\n",
    "\n",
    "        for filename in sorted(filenames, key = natural_keys):\n",
    "            if w in filename: #PAY ATTENTION ID THE IMAGE IS A TIFF OR PNG IMAGE #########\n",
    "                time.append(filename)\n",
    "\n",
    "    data_id = {}\n",
    "    n_id = []\n",
    "    w_n = []\n",
    "\n",
    "    for i in time:\n",
    "        t = i.split('_id_')[1].split('time_')[0]\n",
    "        f = i.split('_id_')[0].split('time_')[0]\n",
    "        n_id.append(t)\n",
    "        w_n.append(f)\n",
    "\n",
    "    id_cell = set(n_id)\n",
    "\n",
    "\n",
    "    for ix, i in enumerate(sorted(id_cell, key = natural_keys)):\n",
    "\n",
    "        id_name = []\n",
    "        dict_1 = {}\n",
    "\n",
    "        for t in time:\n",
    "            if 'id_{}'.format(i) in t:\n",
    "                id_name.append(t)\n",
    "\n",
    "        d = {'id':id_name}\n",
    "        data = pd.DataFrame(d)\n",
    "\n",
    "        dict_1[ix]=data \n",
    "        data_id.update(dict_1) \n",
    "\n",
    "    delete = [i for i, j in data_id.items() if len(j) < 35] # 9 or the length of time span you are traning on \n",
    "    for i in delete : del data_id[i]\n",
    "\n",
    "    len_id = [i for i, j in data_id.items()]\n",
    "\n",
    "\n",
    "    for le in len_id:    \n",
    "        image_list = []\n",
    "\n",
    "        e = pd.DataFrame(data_id[le])\n",
    "\n",
    "        coords = e.values.tolist()\n",
    "        id_cell = []\n",
    "        for i in coords:\n",
    "            for j in i:\n",
    "                id_cell.append(j)\n",
    "\n",
    "\n",
    "        for idc in id_cell:\n",
    "            for filename in glob.glob(path + idc ): \n",
    "                im=cv2.imread(filename)\n",
    "\n",
    "                image_list.append(im)\n",
    "\n",
    "\n",
    "        x_orig_1 = np.reshape(image_list, (len(image_list), 90, 90, 3))\n",
    "        x_orig = resize()\n",
    "        \n",
    "        x_orig = preprocess_input(x_orig)\n",
    "        output = base_model.predict(x_orig)\n",
    "        np.save('/home/jovyan/DATA_MASTER_PROJECT/LSTM/LST_vs_CNN/ADR_HRH/features_validation/features_well_{}_id_{}.npy'.format(w_n[0], le), output)"
   ]
  },
  {
   "cell_type": "code",
   "execution_count": 12,
   "metadata": {},
   "outputs": [],
   "source": [
    "controll = ['B3', 'D5','D6','F10']\n",
    "adr = ['C6','F11', 'D11', 'G4', 'F2', 'G10', 'G5', 'B10', 'G3', 'B8']\n",
    "hrh = ['E4', 'G6', 'G8', 'D10', 'E7', 'B7', 'E10', 'B11', 'D8', 'B2']"
   ]
  },
  {
   "cell_type": "code",
   "execution_count": 25,
   "metadata": {},
   "outputs": [],
   "source": [
    "directory = '/home/jovyan/DATA_MASTER_PROJECT/LSTM/LST_vs_CNN/ADR_HRH/features_validation/'"
   ]
  },
  {
   "cell_type": "code",
   "execution_count": 26,
   "metadata": {},
   "outputs": [],
   "source": [
    "for i in os.listdir(directory):\n",
    "    for c in controll:\n",
    "        if c in i:\n",
    "            os.rename(directory + i, directory + 'controll_' + i)\n",
    "            \n",
    "            \n",
    "    for a in adr:\n",
    "        if a in i:\n",
    "            os.rename(directory + i, directory + 'adr_' + i)\n",
    "            \n",
    "    for h in hrh:\n",
    "        if h in i:\n",
    "            os.rename(directory + i, directory + 'hrh_' + i)\n",
    "            "
   ]
  },
  {
   "cell_type": "code",
   "execution_count": 27,
   "metadata": {},
   "outputs": [],
   "source": [
    "feat = []\n",
    "for dire, dir_name, filnames in os.walk(directory):\n",
    "    for f_name in filnames:\n",
    "        feat.append(f_name)"
   ]
  },
  {
   "cell_type": "code",
   "execution_count": 28,
   "metadata": {},
   "outputs": [],
   "source": [
    "#train, test = train_test_split(feat, test_size=0.2, random_state=99 )\n",
    "#len(train), len(test)"
   ]
  },
  {
   "cell_type": "code",
   "execution_count": 29,
   "metadata": {},
   "outputs": [
    {
     "data": {
      "text/plain": [
       "[('hrh', 0, 244), ('adr', 1, 175)]"
      ]
     },
     "execution_count": 29,
     "metadata": {},
     "output_type": "execute_result"
    }
   ],
   "source": [
    "y = return_count(feat)\n",
    "y"
   ]
  },
  {
   "cell_type": "code",
   "execution_count": null,
   "metadata": {},
   "outputs": [],
   "source": [
    "# Training"
   ]
  },
  {
   "cell_type": "code",
   "execution_count": null,
   "metadata": {},
   "outputs": [],
   "source": [
    "#pa = '/home/jovyan/DATA_MASTER_PROJECT/LSTM/LSTM_Final_Data/'\n",
    "#new_path = '/home/jovyan/Feature_LSTM_Train'\n",
    "#os.mkdir(new_path)\n",
    "\n",
    "#for i in train:\n",
    " #   shutil.copy(pa + i, new_path+ '/' +i)"
   ]
  },
  {
   "cell_type": "markdown",
   "metadata": {},
   "source": [
    "# Test"
   ]
  },
  {
   "cell_type": "code",
   "execution_count": null,
   "metadata": {},
   "outputs": [],
   "source": [
    "#new_path = '/home/jovyan/Feature_LSTM_Test'\n",
    "#os.mkdir(new_path)\n",
    "\n",
    "#for i in test:\n",
    " #   shutil.copy(pa+i, new_path+ '/' +i)"
   ]
  },
  {
   "cell_type": "markdown",
   "metadata": {},
   "source": [
    "# Create Labels"
   ]
  },
  {
   "cell_type": "code",
   "execution_count": 30,
   "metadata": {},
   "outputs": [
    {
     "data": {
      "text/plain": [
       "'Done'"
      ]
     },
     "execution_count": 30,
     "metadata": {},
     "output_type": "execute_result"
    }
   ],
   "source": [
    "indi = '/home/jovyan/DATA_MASTER_PROJECT/LSTM/LST_vs_CNN/ADR_HRH/'\n",
    "tr = return_count(feat)\n",
    "creat_label(tr, indi + '/' + 'lstm_validation.csv')"
   ]
  },
  {
   "cell_type": "code",
   "execution_count": null,
   "metadata": {},
   "outputs": [],
   "source": [
    "#te = return_count(train)\n",
    "#creat_label(te, indi + '/' + 'lstm_test.csv')"
   ]
  },
  {
   "cell_type": "code",
   "execution_count": null,
   "metadata": {},
   "outputs": [],
   "source": [
    "dire = '/home/jovyan/DATA_MASTER_PROJECT/LSTM/LSTM_Controll_ADR/features_train/'"
   ]
  },
  {
   "cell_type": "code",
   "execution_count": null,
   "metadata": {},
   "outputs": [],
   "source": [
    "sh = np.load(dire+feat[120])"
   ]
  },
  {
   "cell_type": "code",
   "execution_count": null,
   "metadata": {},
   "outputs": [],
   "source": [
    "plt.plot(sh)\n",
    "plt.show"
   ]
  },
  {
   "cell_type": "code",
   "execution_count": null,
   "metadata": {},
   "outputs": [],
   "source": []
  }
 ],
 "metadata": {
  "kernelspec": {
   "display_name": "Python 3",
   "language": "python",
   "name": "python3"
  },
  "language_info": {
   "codemirror_mode": {
    "name": "ipython",
    "version": 3
   },
   "file_extension": ".py",
   "mimetype": "text/x-python",
   "name": "python",
   "nbconvert_exporter": "python",
   "pygments_lexer": "ipython3",
   "version": "3.6.9"
  }
 },
 "nbformat": 4,
 "nbformat_minor": 4
}
