{
 "cells": [
  {
   "cell_type": "code",
   "execution_count": 1,
   "metadata": {},
   "outputs": [],
   "source": [
    "import numpy as np\n",
    "import cv2 \n",
    "import matplotlib.pyplot as plt\n",
    "import pandas as pd\n",
    "from PIL import Image\n",
    "import glob\n",
    "import os\n",
    "import re\n",
    "import imutils\n",
    "from skimage.feature import peak_local_max\n",
    "from skimage.morphology import watershed\n",
    "from scipy import ndimage\n",
    "import collections\n",
    "from skimage.draw import circle, line\n",
    "from skimage.measure import regionprops\n",
    "import tqdm\n",
    "import matplotlib.image as mpimg\n",
    "from scipy.spatial import distance as dist\n",
    "import tqdm"
   ]
  },
  {
   "cell_type": "code",
   "execution_count": 2,
   "metadata": {},
   "outputs": [],
   "source": [
    "def atoi(text):\n",
    "    return int(text) if text.isdigit() else text\n",
    "def natural_keys(text):\n",
    "    return [atoi(c) for c in re.split('(\\d+)', text)]"
   ]
  },
  {
   "cell_type": "code",
   "execution_count": 3,
   "metadata": {},
   "outputs": [],
   "source": [
    "image_list = []\n",
    "for filename in sorted(glob.glob('/home/jovyan/send_ola/*.tiff'), key=natural_keys): \n",
    "    im=cv2.imread(filename)\n",
    "    if np.count_nonzero(im == 255) < 1000:\n",
    "        image_list.append(im)"
   ]
  },
  {
   "cell_type": "code",
   "execution_count": 4,
   "metadata": {},
   "outputs": [],
   "source": [
    "def return_cord(i_0):    \n",
    "    cx = []\n",
    "    cy = []\n",
    "\n",
    "    shifted = cv2.pyrMeanShiftFiltering(i_0, 10, 50)\n",
    "    gray = cv2.cvtColor(shifted,cv2.COLOR_BGR2GRAY)\n",
    "    thresh = cv2.threshold(gray, 0, 255, cv2.THRESH_BINARY | cv2.THRESH_OTSU)[1]\n",
    "    D = ndimage.distance_transform_edt(thresh)\n",
    "    localMax = peak_local_max(D, indices=False, min_distance=9, labels=thresh)\n",
    "    markers = ndimage.label(localMax, structure=np.ones((3, 3)))[0]\n",
    "    labels = watershed(-D, markers, mask=thresh)\n",
    "\n",
    "\n",
    "\n",
    "    for label in np.unique(labels):\n",
    "        if label == 0:\n",
    "            continue\n",
    "\n",
    "\n",
    "\n",
    "\n",
    "        mask = np.zeros(gray.shape, dtype='uint8')\n",
    "        mask[labels == label] = 255\n",
    "        cnts = cv2.findContours(mask.copy(), cv2.RETR_EXTERNAL, cv2.CHAIN_APPROX_NONE)\n",
    "        cnts = imutils.grab_contours(cnts)\n",
    "        c = max(cnts, key=cv2.contourArea)\n",
    "        ((x, y), r) = cv2.minEnclosingCircle(c)\n",
    "\n",
    "\n",
    "\n",
    "        cx.append(int(x))\n",
    "        cy.append(int(y))\n",
    "        \n",
    "        l1 = np.column_stack((cx,cy))\n",
    "        \n",
    "\n",
    "    return l1, cx, cy"
   ]
  },
  {
   "cell_type": "code",
   "execution_count": 5,
   "metadata": {},
   "outputs": [
    {
     "name": "stderr",
     "output_type": "stream",
     "text": [
      "100%|██████████| 91/91 [00:42<00:00,  2.14it/s]\n"
     ]
    }
   ],
   "source": [
    "dict_cord = {}\n",
    "cor = []\n",
    "x = []\n",
    "y = []\n",
    "for i in tqdm.tqdm(image_list):\n",
    "    cor_0,x0,y0 = return_cord(i)\n",
    "    cor.append(cor_0)\n",
    "    x.append(x0)\n",
    "    y.append(y0)\n",
    "    \n",
    "    data={'X':x, 'Y':y, 'Cor':cor}\n",
    "    data = pd.DataFrame(data)\n",
    "\n",
    "    \n",
    "dict_cord = data\n",
    "    "
   ]
  },
  {
   "cell_type": "code",
   "execution_count": 6,
   "metadata": {},
   "outputs": [
    {
     "data": {
      "text/plain": [
       "91"
      ]
     },
     "execution_count": 6,
     "metadata": {},
     "output_type": "execute_result"
    }
   ],
   "source": [
    "len(dict_cord)"
   ]
  },
  {
   "cell_type": "code",
   "execution_count": 7,
   "metadata": {},
   "outputs": [],
   "source": [
    "coords = dict_cord.values.tolist()"
   ]
  },
  {
   "cell_type": "markdown",
   "metadata": {},
   "source": [
    "# First Image t0 to t1"
   ]
  },
  {
   "cell_type": "code",
   "execution_count": 8,
   "metadata": {},
   "outputs": [],
   "source": [
    "def eucl_dist_matrix_t1(cor_t, cor_t1):\n",
    "    \n",
    "    d = dist.cdist(cor_t, cor_t1)\n",
    "    rows = d.min(axis=1).argsort()\n",
    "    cols = d.argmin(axis=1)[rows]\n",
    "    \n",
    "    list_id_index = (list(zip(rows, cols)))\n",
    "    list_id_index = sorted(list_id_index)\n",
    "    \n",
    "    \n",
    "    \n",
    "    \n",
    "    return rows, cols, list_id_index ,d "
   ]
  },
  {
   "cell_type": "code",
   "execution_count": 9,
   "metadata": {},
   "outputs": [],
   "source": [
    "def find_duplicates_col_t1(rows, columns,list_id_index, distance_matrix):\n",
    "    \n",
    "    col = columns.tolist()\n",
    "    duplicates = []\n",
    "    for item in col:\n",
    "        if col.count(item) > 1:\n",
    "            duplicates.append(item)\n",
    "    duplicate_columns = set(duplicates)\n",
    "    \n",
    "    d = []\n",
    "    r = []\n",
    "    c = []\n",
    "    for ix, (a, b) in enumerate(zip(rows, columns)):\n",
    "        for i in duplicate_columns: \n",
    "            if b == i:\n",
    "                d.append(distance_matrix[a][b])\n",
    "                r. append(a)\n",
    "                c.append(b)\n",
    "                \n",
    "    w = (list(zip(r,c,d)))\n",
    "    w.sort(key = lambda t: t[1])\n",
    "    w\n",
    "    \n",
    "    temp = {}\n",
    "    for row, col, di in w:\n",
    "        if col not in temp: # we see this key for the first time\n",
    "            temp[col] = (row, col, di)\n",
    "        else:\n",
    "            if temp[col][2] > di: # the new date is larger than the old one\n",
    "                temp[col] = (row, col, di)\n",
    "\n",
    "    result = temp.values()\n",
    "\n",
    "    result = list(result)\n",
    "\n",
    "    l2set = set(result)\n",
    "    colums_to_remove = [x for x in w if x not in l2set] # cordinates that have to be removed\n",
    "     \n",
    "    rem_row, rem_col, rem_dit = zip(*colums_to_remove)\n",
    "    rem_cor = (list(zip(rem_row,rem_col)))\n",
    "    \n",
    "    rem_cor = set(rem_cor)\n",
    "    \n",
    "    keep_cor = [x for x in list_id_index if x not in rem_cor]\n",
    "\n",
    "    keep_cor.sort(key = lambda t: t[1])\n",
    "    \n",
    "    id_cell, index = zip(*keep_cor)\n",
    "\n",
    "    \n",
    "    return id_cell, index, duplicate_columns"
   ]
  },
  {
   "cell_type": "code",
   "execution_count": 10,
   "metadata": {},
   "outputs": [],
   "source": [
    "def remove_duplicates_t1(x, y, index):\n",
    "    \n",
    "    large = max(index)\n",
    "    lst = list(range(0,(large+1)))\n",
    "    \n",
    "    ix = set(index)\n",
    "    \n",
    "    missing_ix = [x for x in lst if x not in ix]\n",
    "    \n",
    "    centroid_t = (list(zip(x,y)))\n",
    "    \n",
    "    real_centroid = [i for j, i in enumerate(centroid_t) if j not in missing_ix]\n",
    "    \n",
    "    x_i, y_i = zip(*real_centroid)\n",
    "    \n",
    "    stacket_centroids = np.column_stack((x_i,y_i))\n",
    "    \n",
    "    \n",
    "    \n",
    "    return(x_i, y_i, stacket_centroids)"
   ]
  },
  {
   "cell_type": "code",
   "execution_count": 11,
   "metadata": {},
   "outputs": [],
   "source": [
    "def get_image_t0(x, y, image, number_image):\n",
    "    \n",
    "    df = pd.DataFrame(list(zip(x, y)), \n",
    "               columns =['row', 'col']) \n",
    "\n",
    "\n",
    "    x = []\n",
    "    y = []\n",
    "\n",
    "    for i in range(len(df)):\n",
    "        x.append(df.iloc[i,0])\n",
    "        y.append(df.iloc[i,1])\n",
    "        \n",
    "\n",
    "\n",
    "\n",
    "    for idx, i in enumerate(x):\n",
    "    \n",
    "\n",
    "\n",
    "        cv2.circle(image, (x[idx], y[idx]), 3, (0, 255, 255), -1)\n",
    "        cv2.putText(image, \"{0}\".format(idx), (x[idx] - 20, y[idx] - 20),\n",
    "            cv2.FONT_HERSHEY_SIMPLEX, 0.5, (255, 255, 255), 1)\n",
    "    cv2.imwrite('img_try_fina_track_{0}.png'.format(number_image), image)"
   ]
  },
  {
   "cell_type": "code",
   "execution_count": 12,
   "metadata": {},
   "outputs": [],
   "source": [
    "def get_image(x, y, id_cell, image, number_image):\n",
    "    \n",
    "    df2 = pd.DataFrame(list(zip(x, y, id_cell)), \n",
    "               columns =['row', 'col', 'id_cell']) \n",
    "\n",
    "\n",
    "    x = []\n",
    "    y = []\n",
    "    corrdinate = []\n",
    "    for i in range(len(df2)):\n",
    "        x.append(df2.iloc[i,0])\n",
    "        y.append(df2.iloc[i,1])\n",
    "        corrdinate.append(df2.iloc[i,2])\n",
    "\n",
    "\n",
    "\n",
    "    for idx, i in enumerate(x):\n",
    "\n",
    "\n",
    "\n",
    "        cv2.circle(image, (x[idx], y[idx]), 3, (0, 255, 255), -1)\n",
    "        cv2.putText(image, \"{0}\".format(corrdinate[idx]), (x[idx] - 20, y[idx] - 20),\n",
    "            cv2.FONT_HERSHEY_SIMPLEX, 0.5, (255, 255, 255), 1)\n",
    "\n",
    "    cv2.imwrite('img_try_fina_track_{0}.png'.format(number_image), image)"
   ]
  },
  {
   "cell_type": "code",
   "execution_count": 13,
   "metadata": {},
   "outputs": [],
   "source": [
    "rows_1_2, cols_1_2, list_id_index_1_2 ,d_1_2 = eucl_dist_matrix_t1(coords[0][2], coords[1][2])"
   ]
  },
  {
   "cell_type": "code",
   "execution_count": 14,
   "metadata": {},
   "outputs": [],
   "source": [
    "id_cell, index, duplicate_columns = find_duplicates_col_t1(rows_1_2, cols_1_2, list_id_index_1_2, d_1_2)"
   ]
  },
  {
   "cell_type": "code",
   "execution_count": 15,
   "metadata": {},
   "outputs": [],
   "source": [
    "x_1, y_1, new_cor_1 = remove_duplicates_t1(coords[1][0],coords[1][1], index)"
   ]
  },
  {
   "cell_type": "code",
   "execution_count": 16,
   "metadata": {},
   "outputs": [],
   "source": [
    "get_image_t0(coords[0][0],coords[0][1], image_list[0], '0')\n",
    "get_image(x_1, y_1, id_cell, image_list[1], '1')"
   ]
  },
  {
   "cell_type": "code",
   "execution_count": 17,
   "metadata": {},
   "outputs": [],
   "source": [
    "new_coor = {'Cor_1':new_cor_1}\n",
    "new_id = {'ID_1':id_cell}"
   ]
  },
  {
   "cell_type": "markdown",
   "metadata": {},
   "source": [
    "# From t1 to rest of data set\n",
    "\n"
   ]
  },
  {
   "cell_type": "code",
   "execution_count": 18,
   "metadata": {},
   "outputs": [],
   "source": [
    "# IF Index duplicates cols > 0\n",
    "\n",
    "def remove_dup_cols(row1, col1, dup_set2, x0, y0, id_cell,d, list_id_index1):\n",
    "\n",
    "    dis = []\n",
    "    r = []\n",
    "    c = []\n",
    "\n",
    "    for ix, (a, b) in enumerate(zip(row1, col1)):\n",
    "        for i in dup_set2: \n",
    "            if b == i:\n",
    "                dis.append(d[a][b])\n",
    "                r. append(a)\n",
    "                c.append(b)\n",
    "                    \n",
    "    w = (list(zip(r,c,dis)))\n",
    "    w.sort(key = lambda t: t[1])\n",
    "        \n",
    "    temp = {}\n",
    "    for row, col, dis in w:\n",
    "        if col not in temp: # we see this key for the first time\n",
    "            temp[col] = (row, col, dis)\n",
    "        else:\n",
    "            if temp[col][2] > dis: \n",
    "                temp[col] = (row, col, dis)\n",
    "\n",
    "    result = temp.values()\n",
    "\n",
    "    result = list(result)\n",
    "\n",
    "        \n",
    "    l2set = set(result)\n",
    "    l3 = [x for x in w if x not in l2set]\n",
    "        \n",
    "    rem_row, rem_col, rem_dit = zip(*l3)\n",
    "    rem_cor = (list(zip(rem_row,rem_col)))\n",
    "        \n",
    "    rem_cor = set(rem_cor)\n",
    "    keep_cor = [x for x in list_id_index1 if x not in rem_cor]     # cordinates that have to be removed\n",
    "    keep_cor.sort(key = lambda t: t[1])\n",
    "        \n",
    "        \n",
    "    new_rowt1, new_colt1 = zip(*keep_cor)\n",
    "    large = len(new_rowt1)\n",
    "    large\n",
    "    lst = list(range(0,(large+1)))\n",
    "    ix = set(new_rowt1)\n",
    "\n",
    "    m = [x for x in lst if x not in ix]\n",
    "\n",
    "    centroid_t0 = (list(zip(x0,y0,id_cell)))\n",
    "\n",
    "    real_centroid0 = [i for j, i in enumerate(centroid_t0) if j not in m]\n",
    "\n",
    "    x_0, y_0, id_cell0= zip(*real_centroid0)\n",
    "\n",
    "    correct_0 = np.column_stack((x_0,y_0)) \n",
    "        \n",
    "    return correct_0, id_cell0"
   ]
  },
  {
   "cell_type": "code",
   "execution_count": 19,
   "metadata": {},
   "outputs": [],
   "source": [
    "# IF Index unused cols > 0\n",
    "\n",
    "def remove_unused_cols (idx_unused_col, x1, y1):\n",
    "    \n",
    "    miss_idx = idx_unused_col\n",
    "    miss_idx\n",
    "    centroid_t1 = (list(zip(x1, y1)))\n",
    "    real_centroid1 = [i for j, i in enumerate(centroid_t1) if j not in miss_idx]\n",
    "    \n",
    "    return real_centroid1\n",
    "        \n"
   ]
  },
  {
   "cell_type": "code",
   "execution_count": 20,
   "metadata": {},
   "outputs": [],
   "source": [
    "def euc_matrix_2(data_t1, data_t2):\n",
    "    \n",
    "    rows1, cols1, matrix1, d1 = eucl_dist_matrix_t1(data_t1, data_t2 )\n",
    "    row1, col1 = zip(*matrix1)\n",
    "\n",
    "    correct_1= []\n",
    "\n",
    "    for ix, (i,j) in enumerate(zip(row1, col1)):\n",
    "        correct_1.insert(ix, data_t2[j])\n",
    "            \n",
    "    x_1, y_1 = zip(*correct_1)\n",
    "    \n",
    "    return x_1, y_1"
   ]
  },
  {
   "cell_type": "code",
   "execution_count": 21,
   "metadata": {},
   "outputs": [],
   "source": [
    "def final_fun(dup_set2, idx_unused_col, d1, id_cell, img_now, num_img, list_id_index1, cor_now,\n",
    "             new_cor_before):\n",
    "    \n",
    "    row1, col1         = zip(*list_id_index1)\n",
    "    x_before, y_before = zip(*new_cor_before)\n",
    "    x_now, y_now       = zip(*cor_now)\n",
    "\n",
    "    if len(dup_set2) > 0 and len(idx_unused_col) > 0:\n",
    "\n",
    "        correct_0, id_cell_new = remove_dup_cols(row1, col1, dup_set2, x_before, y_before, id_cell,d1,list_id_index1)\n",
    "\n",
    "        real_centroid1      = remove_unused_cols (idx_unused_col, x_now, y_now)\n",
    "\n",
    "        xt1, yt1 = euc_matrix_2(correct_0 ,real_centroid1)\n",
    "\n",
    "        get_image(xt1, yt1, id_cell_new, img_now, num_img)\n",
    "        \n",
    "        return list(zip(xt1, yt1)), id_cell_new\n",
    "\n",
    "\n",
    "\n",
    "    elif len(dup_set2) > 0 and len(idx_unused_col) == 0:\n",
    "\n",
    "        correct_0, id_cell_new = remove_dup_cols(row1, col1, dup_set2, x_before, y_before, id_cell, list_id_index1)\n",
    "\n",
    "        xt1, yt1 = euc_matrix_2(correct_0 , cor_now)\n",
    "\n",
    "        get_image(xt1, yt1, id_cell0, img_now, num_img)\n",
    "        \n",
    "        return list(zip(xt1, yt1)), id_cell_new\n",
    "\n",
    "\n",
    "    elif len(dup_set2)  == 0 and len(idx_unused_col) > 0:\n",
    "\n",
    "        real_centroid1      = remove_unused_cols (idx_unused_col, x_now, y_now)\n",
    "\n",
    "        xt1, yt1 = euc_matrix_2(new_cor_before , real_centroid1)\n",
    "\n",
    "        get_image(xt1, yt1, id_cell, img_now, num_img)\n",
    "        \n",
    "        return list(zip(xt1, yt1)), id_cell\n",
    "\n",
    "\n",
    "    else:\n",
    "\n",
    "        xt1, yt1 = euc_matrix_2(new_cor_before , cor_now)\n",
    "\n",
    "        get_image(xt1, yt1, id_cell, img_now, num_img)\n",
    "        \n",
    "        return list(zip(xt1, yt1)), id_cell\n"
   ]
  },
  {
   "cell_type": "code",
   "execution_count": 22,
   "metadata": {},
   "outputs": [
    {
     "ename": "IndexError",
     "evalue": "list index out of range",
     "output_type": "error",
     "traceback": [
      "\u001b[0;31m---------------------------------------------------------------------------\u001b[0m",
      "\u001b[0;31mIndexError\u001b[0m                                Traceback (most recent call last)",
      "\u001b[0;32m<ipython-input-22-e8821002e96a>\u001b[0m in \u001b[0;36m<module>\u001b[0;34m\u001b[0m\n\u001b[1;32m      1\u001b[0m \u001b[0;32mfor\u001b[0m \u001b[0mix\u001b[0m \u001b[0;32min\u001b[0m \u001b[0mrange\u001b[0m\u001b[0;34m(\u001b[0m\u001b[0mlen\u001b[0m\u001b[0;34m(\u001b[0m\u001b[0mimage_list\u001b[0m\u001b[0;34m)\u001b[0m\u001b[0;34m)\u001b[0m\u001b[0;34m:\u001b[0m\u001b[0;34m\u001b[0m\u001b[0;34m\u001b[0m\u001b[0m\n\u001b[1;32m      2\u001b[0m \u001b[0;34m\u001b[0m\u001b[0m\n\u001b[0;32m----> 3\u001b[0;31m     \u001b[0mrow\u001b[0m\u001b[0;34m,\u001b[0m \u001b[0mcol\u001b[0m\u001b[0;34m,\u001b[0m \u001b[0mlist_id_index1\u001b[0m \u001b[0;34m,\u001b[0m\u001b[0md1\u001b[0m \u001b[0;34m=\u001b[0m \u001b[0meucl_dist_matrix_t1\u001b[0m\u001b[0;34m(\u001b[0m\u001b[0mlist\u001b[0m\u001b[0;34m(\u001b[0m\u001b[0mnew_coor\u001b[0m\u001b[0;34m.\u001b[0m\u001b[0mvalues\u001b[0m\u001b[0;34m(\u001b[0m\u001b[0;34m)\u001b[0m\u001b[0;34m)\u001b[0m\u001b[0;34m[\u001b[0m\u001b[0mix\u001b[0m\u001b[0;34m]\u001b[0m\u001b[0;34m,\u001b[0m \u001b[0mcoords\u001b[0m\u001b[0;34m[\u001b[0m\u001b[0;36m2\u001b[0m\u001b[0;34m+\u001b[0m\u001b[0mix\u001b[0m\u001b[0;34m]\u001b[0m\u001b[0;34m[\u001b[0m\u001b[0;36m2\u001b[0m\u001b[0;34m]\u001b[0m\u001b[0;34m)\u001b[0m\u001b[0;34m\u001b[0m\u001b[0;34m\u001b[0m\u001b[0m\n\u001b[0m\u001b[1;32m      4\u001b[0m \u001b[0;34m\u001b[0m\u001b[0m\n\u001b[1;32m      5\u001b[0m     \u001b[0mrow1\u001b[0m\u001b[0;34m,\u001b[0m \u001b[0mcol1\u001b[0m \u001b[0;34m=\u001b[0m \u001b[0mzip\u001b[0m\u001b[0;34m(\u001b[0m\u001b[0;34m*\u001b[0m\u001b[0mlist_id_index1\u001b[0m\u001b[0;34m)\u001b[0m\u001b[0;34m\u001b[0m\u001b[0;34m\u001b[0m\u001b[0m\n",
      "\u001b[0;31mIndexError\u001b[0m: list index out of range"
     ]
    }
   ],
   "source": [
    "for ix in range(len(image_list)):\n",
    "\n",
    "    row, col, list_id_index1 ,d1 = eucl_dist_matrix_t1(list(new_coor.values())[ix], coords[2+ix][2])\n",
    "\n",
    "    row1, col1 = zip(*list_id_index1)\n",
    "\n",
    "\n",
    "    # Index duplicates cols\n",
    "\n",
    "\n",
    "    duplicates2 = []\n",
    "    for item in col1:\n",
    "        if col1.count(item) > 1:\n",
    "            duplicates2.append(item)\n",
    "    dup_set2 = set(duplicates2)\n",
    "\n",
    "\n",
    "    # Index unused cols\n",
    "\n",
    "    r = len(list(new_coor.values())[ix])\n",
    "    unused_col = list(range(0, r))\n",
    "    unused = set(col1)\n",
    "    idx_unused_col = [x for x in unused_col if x not in unused]\n",
    "\n",
    "\n",
    "    n_cord_new, id_cell_new = final_fun(dup_set2, idx_unused_col, d1, list(new_id.values())[ix], image_list[2+ix], '{}'.format(2+ix), list_id_index1, coords[2+ix][2], list(new_coor.values())[ix])\n",
    "    \n",
    "    new_coor['Cor_{}'.format(2+ix)] = n_cord_new\n",
    "    new_id['ID_{}'.format(2+ix)] = id_cell_new\n",
    "    "
   ]
  },
  {
   "cell_type": "code",
   "execution_count": null,
   "metadata": {},
   "outputs": [],
   "source": []
  },
  {
   "cell_type": "code",
   "execution_count": null,
   "metadata": {},
   "outputs": [],
   "source": []
  },
  {
   "cell_type": "code",
   "execution_count": null,
   "metadata": {},
   "outputs": [],
   "source": []
  }
 ],
 "metadata": {
  "kernelspec": {
   "display_name": "Python 3",
   "language": "python",
   "name": "python3"
  },
  "language_info": {
   "codemirror_mode": {
    "name": "ipython",
    "version": 3
   },
   "file_extension": ".py",
   "mimetype": "text/x-python",
   "name": "python",
   "nbconvert_exporter": "python",
   "pygments_lexer": "ipython3",
   "version": "3.6.9"
  }
 },
 "nbformat": 4,
 "nbformat_minor": 4
}
