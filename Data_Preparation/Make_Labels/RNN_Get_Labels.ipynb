{
 "cells": [
  {
   "cell_type": "code",
   "execution_count": 1,
   "metadata": {},
   "outputs": [],
   "source": [
    "import numpy as np\n",
    "import cv2 \n",
    "import matplotlib.pyplot as plt\n",
    "import pandas as pd\n",
    "from PIL import Image\n",
    "import glob\n",
    "import os\n",
    "from os import *\n",
    "import re\n",
    "import imutils\n",
    "from skimage.feature import peak_local_max\n",
    "from skimage.morphology import watershed\n",
    "from scipy import ndimage\n",
    "import collections\n",
    "from ipynb.fs.full.Track_Functions import *"
   ]
  },
  {
   "cell_type": "code",
   "execution_count": 2,
   "metadata": {},
   "outputs": [],
   "source": [
    "def atoi(text):\n",
    "    return int(text) if text.isdigit() else text\n",
    "def natural_keys(text):\n",
    "    return [atoi(c) for c in re.split('(\\d+)', text)]\n"
   ]
  },
  {
   "cell_type": "code",
   "execution_count": 3,
   "metadata": {},
   "outputs": [],
   "source": [
    "p = '/home/jovyan/DATA_MASTER_PROJECT/Check_DIFF_T40_T70/full_size_CONTROLL/'\n",
    "#p = '/home/jovyan/send_ola/'\n",
    "#t = []\n",
    "#for i in listdir(p):\n",
    "    #im =cv2.imread(p+i)\n",
    "    #if np.count_nonzero(im == 255) < 1000:\n",
    "       # t.append(im)"
   ]
  },
  {
   "cell_type": "code",
   "execution_count": null,
   "metadata": {},
   "outputs": [],
   "source": [
    "# for ls, i in enumerate(t):\n",
    "\n",
    "#         im = Image.fromarray(i)\n",
    "\n",
    "#         im.save('{0}/well_A_time_{1}_id.png'.format(via, ls))  "
   ]
  },
  {
   "cell_type": "code",
   "execution_count": 4,
   "metadata": {},
   "outputs": [],
   "source": [
    "name_well = []\n",
    "for di,dr,f in os.walk(p):\n",
    "    for i in f:\n",
    "        name_well.append(i.split(' ')[1].split(' ')[0])"
   ]
  },
  {
   "cell_type": "code",
   "execution_count": 5,
   "metadata": {},
   "outputs": [
    {
     "data": {
      "text/plain": [
       "['B3-3',\n",
       " 'B3-1',\n",
       " 'B3-4',\n",
       " 'D6-2',\n",
       " 'F10-4',\n",
       " 'D6-1',\n",
       " 'D6-3',\n",
       " 'F10-1',\n",
       " 'D6-4',\n",
       " 'F10-3',\n",
       " 'B3-2',\n",
       " 'F10-2']"
      ]
     },
     "execution_count": 5,
     "metadata": {},
     "output_type": "execute_result"
    }
   ],
   "source": [
    "wells = list(set(name_well))\n",
    "wells"
   ]
  },
  {
   "cell_type": "code",
   "execution_count": 21,
   "metadata": {},
   "outputs": [],
   "source": [
    "count = 0\n",
    "for di,dr,f in os.walk(p):\n",
    "    for i in f: \n",
    "        if 'C4-2' in i: \n",
    "            count +=1"
   ]
  },
  {
   "cell_type": "code",
   "execution_count": 22,
   "metadata": {},
   "outputs": [
    {
     "data": {
      "text/plain": [
       "30"
      ]
     },
     "execution_count": 22,
     "metadata": {},
     "output_type": "execute_result"
    }
   ],
   "source": [
    "count"
   ]
  },
  {
   "cell_type": "code",
   "execution_count": 4,
   "metadata": {},
   "outputs": [],
   "source": [
    "def get_time_point(path, time_point_1,time_point_2 ,time_point_3):   # time_point in form of 'Take #1 ' (remember the space between #1 ') or 'Take #32'\n",
    "\n",
    "    image_time_point_1 = []\n",
    "    image_time_point_2 = []\n",
    "    image_time_point_3 = []\n",
    "\n",
    "    for dirname, dirnames,filenames in os.walk(path):\n",
    "\n",
    "\n",
    "\n",
    "        for filename in sorted(filenames, key = natural_keys):\n",
    "\n",
    "\n",
    "\n",
    "            if time_point_1 in filename:\n",
    "                \n",
    "                im1 = cv2.imread(os.path.join(dirname, filename))\n",
    "                if np.count_nonzero(im1 == 255) < 17777000:\n",
    "                    image_time_point_1.append(im1)\n",
    "                \n",
    "            #elif time_point_2 in filename: \n",
    "                \n",
    "                #im2 = cv2.imread(os.path.join(dirname, filename))\n",
    "                #if np.count_nonzero(im2 == 255) < 177777000:\n",
    "                    #image_time_point_2.append(im2)\n",
    "                \n",
    "            #elif time_point_3 in filename:\n",
    "            \n",
    "             #   im3 = cv2.imread(os.path.join(dirname, filename))\n",
    "              #  if np.count_nonzero(im3 == 255) < 177777000:\n",
    "               #     image_time_point_3.append(im3)\n",
    "                    \n",
    "            \n",
    "\n",
    "    return image_time_point_1#, image_time_point_2, image_time_point_3 "
   ]
  },
  {
   "cell_type": "code",
   "execution_count": 5,
   "metadata": {},
   "outputs": [],
   "source": [
    "t = get_time_point(p,'B3-3','D5-2','F10-2')"
   ]
  },
  {
   "cell_type": "code",
   "execution_count": null,
   "metadata": {},
   "outputs": [],
   "source": [
    "def find_and_cut(path_img,time_point_1,time_point_2,time_point_3, save_path):\n",
    "\n",
    "    img_list_1, img_list_2, img_list_3 = get_time_point(path_img,time_point_1,time_point_2,time_point_3)\n",
    "\n",
    "    list_img = []\n",
    "    list_img.append(img_list_1)\n",
    "    #list_img.append(img_list_2)\n",
    "    #list_img.append(img_list_3)\n",
    "    \n",
    "    wells = [time_point_1,time_point_2,time_point_3] \n",
    "    \n",
    "    crop_count = []\n",
    "\n",
    "    for list_ix, _ in enumerate(list_img):\n",
    "\n",
    "        t = []\n",
    "        t = list_img[list_ix]\n",
    "\n",
    "\n",
    "        dict_cord = {}\n",
    "        cor = []\n",
    "        x = []\n",
    "        y = []\n",
    "        for i in tqdm.tqdm(t):\n",
    "            cor_0,x0,y0 = return_cord(i)\n",
    "            cor.append(cor_0)\n",
    "            x.append(x0)\n",
    "            y.append(y0)\n",
    "\n",
    "            data={'X':x, 'Y':y, 'Cor':cor}\n",
    "            data = pd.DataFrame(data)\n",
    "\n",
    "\n",
    "        dict_cord = data\n",
    "        coords = dict_cord.values.tolist()\n",
    "\n",
    "        id_cell_pr = get_id_prime(coords[0][0],coords[0][1])\n",
    "\n",
    "\n",
    "        rows_1_2, cols_1_2, list_id_index_1_2 ,d_1_2 = eucl_dist_matrix_t1(coords[0][2], coords[1][2])\n",
    "\n",
    "        try:\n",
    "            index, duplicate_columns = find_duplicates_col_t1(rows_1_2, cols_1_2, list_id_index_1_2, d_1_2)\n",
    "\n",
    "            x_1, y_1, new_cor_1, id_cell_new = remove_duplicates_t1(coords[1][0],coords[1][1], index, id_cell_pr)\n",
    "\n",
    "            new_coor = {'Cor_1':new_cor_1}\n",
    "\n",
    "            new_id = {'ID_1':id_cell_new}\n",
    "\n",
    "            for ix in range(len(t)):\n",
    "\n",
    "                row, col, list_id_index1 ,d1 = eucl_dist_matrix_t1(list(new_coor.values())[ix], coords[2+ix][2])\n",
    "\n",
    "                row1, col1 = zip(*list_id_index1)\n",
    "\n",
    "\n",
    "                # Index duplicates cols\n",
    "\n",
    "\n",
    "                duplicates2 = []\n",
    "                for item in col1:\n",
    "                    if col1.count(item) > 1:\n",
    "                        duplicates2.append(item)\n",
    "                dup_set2 = set(duplicates2)\n",
    "\n",
    "\n",
    "                # Index unused cols\n",
    "\n",
    "                r = len(list(new_coor.values())[ix])\n",
    "                unused_col = list(range(0, r))\n",
    "                unused = set(col1)\n",
    "                idx_unused_col = [x for x in unused_col if x not in unused]\n",
    "\n",
    "\n",
    "                n_cord_new, id_cell_new = final_fun(dup_set2, idx_unused_col, d1, list(new_id.values())[ix], list_id_index1, coords[2+ix][2], list(new_coor.values())[ix])\n",
    "\n",
    "                new_coor['Cor_{}'.format(2+ix)] = n_cord_new\n",
    "                new_id['ID_{}'.format(2+ix)] = id_cell_new\n",
    "\n",
    "\n",
    "        except IndexError:\n",
    "            pass\n",
    "\n",
    "\n",
    "        del t[0]\n",
    "\n",
    "        coor = []\n",
    "        id_c = []\n",
    "\n",
    "        for k, v in new_coor.items():\n",
    "            coor.append(v)\n",
    "\n",
    "        for p, c in new_id.items():\n",
    "            id_c.append(c)\n",
    "\n",
    "        for idx , _ in enumerate(t):\n",
    "\n",
    "            img = t[idx]\n",
    "\n",
    "            crop_cell_1 = []\n",
    "\n",
    "            x = []\n",
    "            y = []\n",
    "\n",
    "            for ix, i in enumerate(coor[idx]):\n",
    "                x.append(coor[idx][ix][0])      \n",
    "                y.append(coor[idx][ix][1])\n",
    "\n",
    "\n",
    "            w = 45\n",
    "            h = 45\n",
    "\n",
    "            try_id = []\n",
    "\n",
    "            for ix, i in enumerate(x):\n",
    "\n",
    "                s = id_c[idx][ix]\n",
    "\n",
    "\n",
    "                crop = img[(y[ix]-h):(y[ix]+h), (x[ix]-w):(x[ix]+w)]\n",
    "\n",
    "                if crop.size == 24300: \n",
    "\n",
    "                    crop_cell_1.append(crop) \n",
    "                    try_id.append(s)\n",
    "\n",
    "            for ls, i in enumerate(crop_cell_1):\n",
    "\n",
    "                im = Image.fromarray(i)\n",
    "\n",
    "                im.save(save_path.format(via, wells[list_ix],try_id[ls], int(idx+1)))  \n",
    "                \n",
    "            crop_count.append(len(crop_cell_1))\n",
    "            \n",
    "    return sum(crop_count)\n"
   ]
  },
  {
   "cell_type": "code",
   "execution_count": null,
   "metadata": {},
   "outputs": [],
   "source": [
    "via = '/home/jovyan/DATA_MASTER_PROJECT/cont_crop'\n",
    "directory = os.mkdir(via) "
   ]
  },
  {
   "cell_type": "code",
   "execution_count": null,
   "metadata": {},
   "outputs": [],
   "source": [
    "p = '/mnt/holomonitor-pvc/finalprojecttest/'"
   ]
  },
  {
   "cell_type": "code",
   "execution_count": null,
   "metadata": {},
   "outputs": [],
   "source": [
    "count = find_and_cut(p , 'D5-2','E4-3','E6-2' , '{0}/{1}_id_{2}_time_{3}.tiff')\n",
    "\n",
    "count"
   ]
  },
  {
   "cell_type": "code",
   "execution_count": null,
   "metadata": {},
   "outputs": [],
   "source": [
    "#im.save(via + wells[list_ix] + 't_{0}_id_{1}.png'.format(int(idx+1), try_id[ls]))  "
   ]
  },
  {
   "cell_type": "code",
   "execution_count": null,
   "metadata": {},
   "outputs": [],
   "source": [
    "time = []\n",
    "\n",
    "for dirname, dirnames,filenames in os.walk('/home/jovyan/MASTER_PROJECT_NOTEBOOKS/try_id_cell_cropped_id/'):\n",
    "    \n",
    "    for filename in sorted(filenames, key = natural_keys):\n",
    "        if 'B3' in filename: #PAY ATTENTION ID THE IMAGE IS A TIFF OR PNG IMAGE #########\n",
    "            time.append(filename)\n",
    "\n",
    "len(time)"
   ]
  },
  {
   "cell_type": "code",
   "execution_count": null,
   "metadata": {},
   "outputs": [],
   "source": [
    "#check how many diff ID and make al list of list based on number of id\n",
    "\n",
    "data_id = {}\n",
    "n_id = []\n",
    "\n",
    "for i in time:\n",
    "    t = i.split('_id_')[1].split('time_')[0]\n",
    "    n_id.append(t)\n",
    "\n",
    "id_cell = set(n_id)\n",
    "\n",
    "for ix, i in enumerate(sorted(id_cell, key = natural_keys)):\n",
    "    \n",
    "    id_name = []\n",
    "    dict_1 = {}\n",
    "    \n",
    "    for t in time:\n",
    "        if 'id_{}'.format(i) in t:\n",
    "            id_name.append(t)\n",
    "    \n",
    "    d = {'id':id_name}\n",
    "    data = pd.DataFrame(d)\n",
    "\n",
    "    dict_1[ix]=data \n",
    "    data_id.update(dict_1)       \n",
    "            "
   ]
  },
  {
   "cell_type": "code",
   "execution_count": null,
   "metadata": {},
   "outputs": [],
   "source": [
    "delete = [i for i, j in data_id.items() if len(j) < 9] # 9 or the length of time span you are traning on "
   ]
  },
  {
   "cell_type": "code",
   "execution_count": null,
   "metadata": {},
   "outputs": [],
   "source": [
    "for i in delete : del data_id[i]"
   ]
  },
  {
   "cell_type": "code",
   "execution_count": null,
   "metadata": {},
   "outputs": [],
   "source": [
    "data_id"
   ]
  },
  {
   "cell_type": "code",
   "execution_count": null,
   "metadata": {},
   "outputs": [],
   "source": [
    "image_list = []\n",
    "path = '/home/jovyan/MASTER_PROJECT_NOTEBOOKS/try_id_cell_cropped_id/'\n",
    "for ix , i in enumerate(time):\n",
    "    for filename in glob.glob(path + i): \n",
    "        im=cv2.imread(filename)\n",
    "\n",
    "        image_list.append(im)\n",
    "len(image_list)"
   ]
  },
  {
   "cell_type": "code",
   "execution_count": null,
   "metadata": {},
   "outputs": [],
   "source": [
    "plt.figure(figsize=(20,20))\n",
    "for i in range(len(image_list)):\n",
    "    plt.subplot(10,10,i+1)\n",
    "    plt.xticks([])\n",
    "    plt.yticks([])\n",
    "    plt.grid(False)\n",
    "    plt.imshow(image_list[i], cmap=plt.cm.binary)\n",
    "    #plt.xlabel(class_names[y_orig_1[i]])\n",
    "plt.show()"
   ]
  },
  {
   "cell_type": "code",
   "execution_count": null,
   "metadata": {},
   "outputs": [],
   "source": [
    "# def find_and_cut(path_img,time_point_1,time_point_2,time_point_3, save_path): #'Take #1 ', # \"{0}/sk_{1}_exp_2_time_1.tiff\"\n",
    "\n",
    "#     t_1 = get_time_point(path_img,time_point_1,time_point_2,time_point_3)\n",
    "\n",
    "#     tot_dict = {}\n",
    "    \n",
    "    \n",
    "\n",
    "#     for idx, image in enumerate(t_1):\n",
    "\n",
    "#         dict_1 = {}\n",
    "\n",
    "#         cx = []\n",
    "#         cy = []\n",
    "\n",
    "#         shifted = cv2.pyrMeanShiftFiltering(image, 10, 50)\n",
    "#         gray = cv2.cvtColor(shifted,cv2.COLOR_BGR2GRAY)\n",
    "#         thresh = cv2.threshold(gray, 0, 255, cv2.THRESH_BINARY | cv2.THRESH_OTSU)[1]\n",
    "#         D = ndimage.distance_transform_edt(thresh)\n",
    "#         localMax = peak_local_max(D, indices=False, min_distance=9, labels=thresh)\n",
    "#         markers = ndimage.label(localMax, structure=np.ones((3, 3)))[0]\n",
    "#         labels = watershed(-D, markers, mask=thresh)\n",
    "\n",
    "\n",
    "\n",
    "#         for label in np.unique(labels):\n",
    "#             if label == 0:\n",
    "#                 continue\n",
    "\n",
    "\n",
    "\n",
    "\n",
    "#             mask = np.zeros(gray.shape, dtype='uint8')\n",
    "#             mask[labels == label] = 255\n",
    "#             cnts = cv2.findContours(mask.copy(), cv2.RETR_EXTERNAL, cv2.CHAIN_APPROX_NONE)\n",
    "#             cnts = imutils.grab_contours(cnts)\n",
    "#             c = max(cnts, key=cv2.contourArea)\n",
    "#             ((x, y), r) = cv2.minEnclosingCircle(c)\n",
    "\n",
    "\n",
    "\n",
    "#             cx.append(int(x))\n",
    "#             cy.append(int(y))\n",
    "\n",
    "\n",
    "#             data = {'X':cx,'Y':cy}\n",
    "\n",
    "#             data = pd.DataFrame(data)\n",
    "\n",
    "\n",
    "#         dict_1[idx] = data\n",
    "\n",
    "#         tot_dict.update(dict_1)\n",
    "\n",
    "\n",
    "#     t_1_1 = get_time_point(path_img, time_point_1,time_point_2,time_point_3)\n",
    "\n",
    "\n",
    "#     value_dict = []\n",
    "\n",
    "#     for k, v in sorted(tot_dict.items()):\n",
    "#         value_dict.append(v)\n",
    "\n",
    "\n",
    "\n",
    "#     crop_cell_1 = []\n",
    "\n",
    "#     for idx , i in enumerate(t_1_1):\n",
    "\n",
    "#         img = t_1_1[idx]\n",
    "\n",
    "\n",
    "\n",
    "#         x = []\n",
    "#         y = []\n",
    "\n",
    "#         for i in range(len(value_dict[idx])):\n",
    "#             x.append(value_dict[idx].iloc[i,0])      \n",
    "#             y.append(value_dict[idx].iloc[i,1])\n",
    "\n",
    "\n",
    "#         w = 45\n",
    "#         h = 45\n",
    "\n",
    "#         for ix, i in enumerate(x):\n",
    "\n",
    "#             crop = img[(y[ix]-h):(y[ix]+h), (x[ix]-w):(x[ix]+w)]\n",
    "\n",
    "#             if crop.size == 24300: \n",
    "\n",
    "#                 crop_cell_1.append(crop)\n",
    "\n",
    "\n",
    "\n",
    "\n",
    "\n",
    "#     for ls, i in enumerate(crop_cell_1):\n",
    "\n",
    "#         im = Image.fromarray(i)\n",
    "\n",
    "#         im.save(save_path.format(via, ls))   # exp 1 or 2 sonce they did dublicate studies \n",
    "\n",
    "#     return crop_cell_1"
   ]
  },
  {
   "cell_type": "code",
   "execution_count": null,
   "metadata": {},
   "outputs": [],
   "source": [
    "via = '/home/jovyan/DATA_MASTER_PROJECT/A549/Cropped_test'\n",
    "directory = os.mkdir(via) "
   ]
  },
  {
   "cell_type": "code",
   "execution_count": null,
   "metadata": {},
   "outputs": [],
   "source": [
    "path_img = p\n"
   ]
  },
  {
   "cell_type": "code",
   "execution_count": null,
   "metadata": {},
   "outputs": [],
   "source": [
    "croped_cell = find_and_cut(path_img, 'B3','D3','F3' , \"{0}/D_2{1}_.tiff\")\n",
    "\n",
    "len(croped_cell)"
   ]
  },
  {
   "cell_type": "code",
   "execution_count": null,
   "metadata": {},
   "outputs": [],
   "source": [
    "\n",
    "\n",
    "a0 = [['controll', 0]] * 8349\n",
    "\n",
    "a1 =[['D_2', 1]] * \n",
    "\n",
    "a2 =[['H_2', 2]] * 7480\n",
    "\n",
    "#a3 =[['mast', 3]] * 50\n",
    "\n",
    "# a4 =[['misoprostol', 4]] * 8371\n",
    "\n",
    "# a5 =[['molindone', 5]] * 6766\n",
    "\n",
    "# a6 =[['nadol', 6]] * 7420\n",
    "\n",
    "# a7 =[['nadol', 7]] * 7420\n",
    "\n",
    "\n",
    "\n",
    "labels = a1+a0+a2#+a2#+a2+a3+a4+a5+a6\n",
    "\n"
   ]
  },
  {
   "cell_type": "code",
   "execution_count": null,
   "metadata": {},
   "outputs": [],
   "source": [
    "df = pd.DataFrame(labels, columns = ['Type', 'Category'])\n",
    "df = df.sort_values(by=['Type'])"
   ]
  },
  {
   "cell_type": "code",
   "execution_count": null,
   "metadata": {},
   "outputs": [],
   "source": [
    "\n",
    "df.to_csv(\"/home/jovyan/DATA_MASTER_PROJECT/A549/test_labels.csv\", sep=',',index=False)"
   ]
  },
  {
   "cell_type": "code",
   "execution_count": null,
   "metadata": {},
   "outputs": [],
   "source": []
  }
 ],
 "metadata": {
  "kernelspec": {
   "display_name": "Python 3",
   "language": "python",
   "name": "python3"
  },
  "language_info": {
   "codemirror_mode": {
    "name": "ipython",
    "version": 3
   },
   "file_extension": ".py",
   "mimetype": "text/x-python",
   "name": "python",
   "nbconvert_exporter": "python",
   "pygments_lexer": "ipython3",
   "version": "3.6.9"
  }
 },
 "nbformat": 4,
 "nbformat_minor": 4
}
