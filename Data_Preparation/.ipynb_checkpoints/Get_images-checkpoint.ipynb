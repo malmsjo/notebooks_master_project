{
 "cells": [
  {
   "cell_type": "code",
   "execution_count": 1,
   "metadata": {},
   "outputs": [],
   "source": [
    "import numpy as np\n",
    "import cv2 \n",
    "import matplotlib.pyplot as plt\n",
    "import pandas as pd\n",
    "from PIL import Image\n",
    "import glob\n",
    "import os\n",
    "import re\n",
    "import imutils\n",
    "from skimage.feature import peak_local_max\n",
    "from skimage.morphology import watershed\n",
    "from scipy import ndimage\n",
    "import collections\n",
    "from skimage.draw import circle, line\n",
    "from skimage.measure import regionprops\n",
    "import tqdm\n",
    "import matplotlib.image as mpimg\n",
    "import shutil\n",
    "from os import listdir\n",
    "import random"
   ]
  },
  {
   "cell_type": "code",
   "execution_count": 2,
   "metadata": {},
   "outputs": [],
   "source": [
    "def atoi(text):\n",
    "    return int(text) if text.isdigit() else text\n",
    "def natural_keys(text):\n",
    "    return [atoi(c) for c in re.split('(\\d+)', text)]"
   ]
  },
  {
   "cell_type": "code",
   "execution_count": null,
   "metadata": {},
   "outputs": [],
   "source": [
    "# FIRST PLATE WELL LAYOUT ALL PLATES HIGH CONCENTRATIO\n",
    "\n",
    "\n",
    "controll = ['B3','D5','D6','F10']\n",
    "\n",
    "adr = ['C6', 'F11', 'D11', 'G4',\n",
    "       'F2','G10', 'G5', 'B10', 'G3', 'B8']\n",
    "\n",
    "hrh = ['E4','G6','G8','D10','E7','B7','E10',\n",
    "        'B11','D8','B2']\n"
   ]
  },
  {
   "cell_type": "code",
   "execution_count": null,
   "metadata": {},
   "outputs": [],
   "source": [
    "#adr = ['B8','F11','E6','D9','D5','F3', 'F7', 'D2', 'G5', 'C2', 'C7', 'F2']\n",
    "\n",
    "#hrh = ['F6', 'C10', 'B3', 'C6', 'B4', 'B11', 'E4', 'E3', 'C4', 'D8', 'G11', 'G2', 'E10', 'E7', 'F8', 'E9', \n",
    "       #'D3', 'D4', 'G4', 'B10', 'C8', 'E5', 'E11', 'B7', 'B2', 'G6', 'C5']\n",
    "\n",
    "#control = ['B6', 'B9', 'C11', 'D10', 'E2', 'E8', 'F4', 'F5', 'G8']"
   ]
  },
  {
   "cell_type": "code",
   "execution_count": 11,
   "metadata": {},
   "outputs": [],
   "source": [
    "path = '/mnt/holomonitor-pvc/finalprojecttest/'\n",
    "\n",
    "time = []\n",
    "\n",
    "\n",
    "n = list(range(1,5))\n",
    "\n",
    "\n",
    "\n",
    "li = ['C6', 'F11', 'D11', 'G4',\n",
    "       'F2','G10', 'G5', 'B10', 'G3', 'B8']\n",
    "\n",
    "\n",
    "\n",
    "time_points = list(map(str, range(60,98)))\n",
    "\n",
    "new_time = []\n",
    "for i in time_points:\n",
    "    r = ' ' + i + '.'\n",
    "    new_time.append(r)\n",
    "\n",
    "\n",
    "for dirname, dirnames,filenames in os.walk(path):\n",
    "    \n",
    "    for filename in sorted(filenames, key = natural_keys):\n",
    "        \n",
    "        for index in n:\n",
    "            for le in li:\n",
    "                for t in new_time:\n",
    "                    if '{}-{}'.format(le,index) in filename and '{}tiff'.format(t) in filename: #PAY ATTENTION ID THE IMAGE IS A TIFF OR PNG IMAGE #########\n",
    "                        time.append(filename)\n",
    "\n",
    "        "
   ]
  },
  {
   "cell_type": "code",
   "execution_count": 12,
   "metadata": {},
   "outputs": [
    {
     "data": {
      "text/plain": [
       "1520"
      ]
     },
     "execution_count": 12,
     "metadata": {},
     "output_type": "execute_result"
    }
   ],
   "source": [
    "len(time)"
   ]
  },
  {
   "cell_type": "code",
   "execution_count": 13,
   "metadata": {},
   "outputs": [],
   "source": [
    "new_path = '/home/jovyan/DATA_MASTER_PROJECT/C_diff_60_90/full_size_ADR'\n",
    "os.mkdir(new_path)\n",
    "\n",
    "for i in time:\n",
    "    shutil.copy(path+i, new_path+ '/' +i)"
   ]
  },
  {
   "cell_type": "code",
   "execution_count": null,
   "metadata": {},
   "outputs": [],
   "source": []
  }
 ],
 "metadata": {
  "kernelspec": {
   "display_name": "Python 3",
   "language": "python",
   "name": "python3"
  },
  "language_info": {
   "codemirror_mode": {
    "name": "ipython",
    "version": 3
   },
   "file_extension": ".py",
   "mimetype": "text/x-python",
   "name": "python",
   "nbconvert_exporter": "python",
   "pygments_lexer": "ipython3",
   "version": "3.6.9"
  }
 },
 "nbformat": 4,
 "nbformat_minor": 4
}
