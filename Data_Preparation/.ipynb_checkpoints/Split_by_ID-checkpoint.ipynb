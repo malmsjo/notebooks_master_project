{
 "cells": [
  {
   "cell_type": "code",
   "execution_count": 1,
   "metadata": {},
   "outputs": [],
   "source": [
    "import numpy as np\n",
    "import cv2 \n",
    "import matplotlib.pyplot as plt\n",
    "import pandas as pd\n",
    "from PIL import Image\n",
    "import glob \n",
    "import os\n",
    "from os import *\n",
    "import re\n",
    "import imutils\n",
    "from skimage.feature import peak_local_max\n",
    "from skimage.morphology import watershed\n",
    "from scipy import ndimage\n",
    "import collections\n",
    "import tqdm\n",
    "import shutil\n",
    "from sklearn.model_selection import train_test_split"
   ]
  },
  {
   "cell_type": "code",
   "execution_count": 2,
   "metadata": {},
   "outputs": [],
   "source": [
    "def atoi(text):\n",
    "    return int(text) if text.isdigit() else text\n",
    "def natural_keys(text):\n",
    "    return [atoi(c) for c in re.split('(\\d+)', text)]"
   ]
  },
  {
   "cell_type": "code",
   "execution_count": 3,
   "metadata": {},
   "outputs": [],
   "source": [
    "def return_count(x):\n",
    "    name_wel = []\n",
    "    for i in sorted(x, key = natural_keys):\n",
    "        name_wel.append(i.split('_')[0])\n",
    "\n",
    "    z = list(set(name_wel))\n",
    "    r = list(range(len(z)))\n",
    "\n",
    "    num = []\n",
    "    for iz in range(len(z)):\n",
    "        count = 0\n",
    "        for i in sorted(x, key=natural_keys):\n",
    "            if z[iz] in i:\n",
    "                count += 1\n",
    "        num.append(count)\n",
    "    return list(zip(z, r, num))"
   ]
  },
  {
   "cell_type": "code",
   "execution_count": 4,
   "metadata": {},
   "outputs": [],
   "source": [
    "def creat_label(y, indirizo):\n",
    "    labels = []\n",
    "    for ix, _ in enumerate(y):\n",
    "        labels.append([[y[ix][0],y[ix][1]]] * y[ix][2])\n",
    "    \n",
    "    ler = [i for sub in labels for i in sub ]\n",
    "\n",
    "    df = pd.DataFrame(ler, columns = ['Type', 'Category'])\n",
    "    df = df.sort_values(by=['Type'])\n",
    "    df.to_csv(indirizo, sep=',',index=False)\n",
    "    return 'Done'"
   ]
  },
  {
   "cell_type": "markdown",
   "metadata": {},
   "source": [
    "# Train path"
   ]
  },
  {
   "cell_type": "code",
   "execution_count": null,
   "metadata": {},
   "outputs": [],
   "source": [
    "train_path = '/home/jovyan/DATA_MASTER_PROJECT/Check_DIFF_T60_T_97/TRAIN'\n",
    "os.mkdir(train_path)\n"
   ]
  },
  {
   "cell_type": "markdown",
   "metadata": {},
   "source": [
    "# Test path"
   ]
  },
  {
   "cell_type": "code",
   "execution_count": null,
   "metadata": {},
   "outputs": [],
   "source": [
    "test_path = '/home/jovyan/DATA_MASTER_PROJECT/Check_DIFF_T60_T_97/TEST'\n",
    "os.mkdir(test_path)"
   ]
  },
  {
   "cell_type": "markdown",
   "metadata": {},
   "source": [
    "# Validation path"
   ]
  },
  {
   "cell_type": "code",
   "execution_count": null,
   "metadata": {},
   "outputs": [],
   "source": [
    "val_path = '/home/jovyan/DATA_MASTER_PROJECT/Check_DIFF_T60_T_97/VALIDATION'\n",
    "os.mkdir(val_path)"
   ]
  },
  {
   "cell_type": "code",
   "execution_count": null,
   "metadata": {},
   "outputs": [],
   "source": [
    "list_compound = ['CYCLIZINE','DOXYLAMINE',\n",
    "                 'OLOPATADINE','KETOFINE','ORPHENADRINE','LEBETALOL','MEPHENTEREMINE',\n",
    "                 'METHOXAMINE','OXYMETAZOLINE','CONTROLL']\n",
    "\n",
    "for l_compound in list_compound:\n",
    "\n",
    "    pa = '/home/jovyan/DATA_MASTER_PROJECT/Check_DIFF_T60_T_97/{}_cropped/'.format(l_compound)\n",
    "\n",
    "\n",
    "    name = []\n",
    "    for d, di, file in os.walk(pa):\n",
    "        for i in file:\n",
    "            name.append(i)\n",
    "\n",
    "\n",
    "    name =sorted(name)\n",
    "\n",
    "\n",
    "    well = []\n",
    "    for i in name:\n",
    "        well.append(i.split('_id')[0])\n",
    "\n",
    "    well_name = list(set(well))\n",
    "\n",
    "    well_name = sorted(well_name)\n",
    "\n",
    "    l = []\n",
    "    for ix, _ in enumerate(well_name):\n",
    "        n = []\n",
    "        for i in name:\n",
    "            if well_name[ix] in i:\n",
    "                n.append(i)\n",
    "        l.append(n)\n",
    "\n",
    "\n",
    "    tot_list = []\n",
    "\n",
    "    for ix, i in tqdm.tqdm(enumerate(l)):\n",
    "\n",
    "\n",
    "        id_n = []\n",
    "        for j in l[ix]:\n",
    "            id_n.append(j.split('_time')[0].split('_id_')[1])\n",
    "\n",
    "        id_name = list(set(id_n))\n",
    "\n",
    "        l1 = []\n",
    "        for ixd, _ in enumerate(id_name):\n",
    "            n1 = []\n",
    "            for na in l[ix]:\n",
    "                if 'id_{}_time'.format(id_name[ixd]) in na:\n",
    "                    n1.append(na)\n",
    "            l1.append(n1)\n",
    "\n",
    "        tot_list.append(l1)\n",
    "\n",
    "\n",
    "\n",
    "\n",
    "    tra = []\n",
    "    tes = []\n",
    "    val = []\n",
    "\n",
    "    for ie in tqdm.tqdm((range(len(tot_list)))):\n",
    "\n",
    "        f_list = tot_list[ie]\n",
    "\n",
    "        li = list(range((len(f_list))))\n",
    "\n",
    "        f, s = train_test_split(li, test_size=0.2, random_state=100)\n",
    "        f1, v = train_test_split(f, test_size=0.2, random_state=100)\n",
    "\n",
    "        for i in f1:\n",
    "\n",
    "            tra.append(f_list[i])\n",
    "\n",
    "        for j in s:\n",
    "            tes.append(f_list[j])\n",
    "\n",
    "        for v1 in v:\n",
    "            val.append(f_list[v1])\n",
    "\n",
    "    train = []\n",
    "    test = []\n",
    "    validation = []\n",
    "\n",
    "\n",
    "    train = [i for sub in tra for i in sub]\n",
    "\n",
    "    test = [i for sub in tes for i in sub]\n",
    "\n",
    "    validation = [i for sub in val for i in sub] \n",
    "\n",
    "\n",
    "    for i in tqdm.tqdm(train):\n",
    "        shutil.copy(pa + i, train_path + '/' + i)\n",
    "\n",
    "\n",
    "\n",
    "\n",
    "    for i in tqdm.tqdm(test):\n",
    "        shutil.copy(pa + i, test_path + '/' +i)\n",
    "\n",
    "\n",
    "\n",
    "\n",
    "\n",
    "\n",
    "    for i in tqdm.tqdm(validation):\n",
    "        shutil.copy(pa + i, val_path+ '/' +i)\n"
   ]
  },
  {
   "cell_type": "markdown",
   "metadata": {},
   "source": [
    "# Make csv Labels\n"
   ]
  },
  {
   "cell_type": "code",
   "execution_count": null,
   "metadata": {},
   "outputs": [],
   "source": [
    "controll = ['B3', 'D5','D6','F10']\n",
    "\n",
    "adr = ['B5', 'C6', 'C11', 'E5', 'F11', 'D11', 'F7', 'G4', 'B6', 'C3', 'D4',\n",
    "       'F2','G10', 'B4', 'E9', 'C7', 'E3', 'F8', 'G5', 'B10', 'D2', 'E8', 'G3', 'B8']\n",
    "\n",
    "hrh = ['C2','E4','E6','G6','G8','C5','D3','B9','D10','C4','D9','E7','F4','B7','E10',\n",
    "        'F6','G2','B11','C10','D7','D8','F3','G11','B2']\n"
   ]
  },
  {
   "cell_type": "code",
   "execution_count": 4,
   "metadata": {},
   "outputs": [],
   "source": [
    "directory = '/home/jovyan/DATA_MASTER_PROJECT/Check_DIFF_T0_T97/CONTROL_cropped/'"
   ]
  },
  {
   "cell_type": "code",
   "execution_count": null,
   "metadata": {},
   "outputs": [],
   "source": [
    "for i in os.listdir(directory):\n",
    "    for c in controll:\n",
    "        if c in i:\n",
    "            os.rename(directory + i, directory + 'control_' + i)\n",
    "            \n",
    "            \n",
    "    for a in adr:\n",
    "        if a in i:\n",
    "            os.rename(directory + i, directory + 'adr_' + i)\n",
    "            \n",
    "    for h in hrh:\n",
    "        if h in i:\n",
    "            os.rename(directory + i, directory + 'hrh_' + i)\n",
    "            "
   ]
  },
  {
   "cell_type": "code",
   "execution_count": 6,
   "metadata": {},
   "outputs": [],
   "source": [
    "feat = []\n",
    "for dire, dir_name, filnames in os.walk(directory):\n",
    "    for f_name in filnames:\n",
    "        feat.append(f_name)"
   ]
  },
  {
   "cell_type": "code",
   "execution_count": 13,
   "metadata": {},
   "outputs": [
    {
     "data": {
      "text/plain": [
       "[('hrh', 0, 11923), ('controll', 1, 3296)]"
      ]
     },
     "execution_count": 13,
     "metadata": {},
     "output_type": "execute_result"
    }
   ],
   "source": [
    "y = return_count(feat)\n",
    "y"
   ]
  },
  {
   "cell_type": "code",
   "execution_count": null,
   "metadata": {},
   "outputs": [],
   "source": [
    "indi = '/home/jovyan/DATA_MASTER_PROJECT/Check_DIFF_T60_T_97/'\n",
    "tr = return_count(feat)\n",
    "creat_label(tr, indi + '/' + 'Validation_lab.csv')"
   ]
  },
  {
   "cell_type": "code",
   "execution_count": null,
   "metadata": {},
   "outputs": [],
   "source": []
  }
 ],
 "metadata": {
  "kernelspec": {
   "display_name": "Python 3",
   "language": "python",
   "name": "python3"
  },
  "language_info": {
   "codemirror_mode": {
    "name": "ipython",
    "version": 3
   },
   "file_extension": ".py",
   "mimetype": "text/x-python",
   "name": "python",
   "nbconvert_exporter": "python",
   "pygments_lexer": "ipython3",
   "version": "3.6.9"
  }
 },
 "nbformat": 4,
 "nbformat_minor": 4
}
