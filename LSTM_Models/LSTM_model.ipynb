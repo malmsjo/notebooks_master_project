{
 "cells": [
  {
   "cell_type": "code",
   "execution_count": 18,
   "metadata": {},
   "outputs": [],
   "source": [
    "import tensorflow as tf\n",
    "from tensorflow import keras\n",
    "from tensorflow.keras.models import Sequential\n",
    "from tensorflow.keras.layers import Dropout\n",
    "from tensorflow.keras.models import Model\n",
    "from tensorflow.keras.layers import Input\n",
    "from tensorflow.keras.layers import Dense\n",
    "from tensorflow.keras.layers import Activation\n",
    "from tensorflow.keras.layers import Flatten\n",
    "from tensorflow.keras.layers import Dropout\n",
    "from tensorflow.keras.layers import LSTM, Bidirectional, Embedding\n",
    "from tensorflow.keras.layers import BatchNormalization\n",
    "\n",
    "from tensorflow.keras import optimizers\n",
    "from tensorflow.keras import regularizers\n",
    "from sklearn.metrics import f1_score\n",
    "\n",
    "from keras.callbacks import EarlyStopping\n",
    "from keras.preprocessing.image import ImageDataGenerator\n",
    "from sklearn.model_selection import train_test_split\n",
    "import numpy as np\n",
    "import matplotlib.pyplot as plt\n",
    "import pandas as pd\n",
    "from PIL import Image \n",
    "import seaborn as sns\n",
    "import os\n",
    "import re\n",
    "import glob\n",
    "import cv2\n",
    "from sklearn.metrics import classification_report\n",
    "from sklearn.metrics import confusion_matrix\n",
    "from sklearn.utils.multiclass import unique_labels\n",
    "from sklearn import preprocessing\n",
    "import tqdm\n",
    "from numpy import loadtxt\n",
    "from sklearn.utils import class_weight\n",
    "from tensorflow.keras.applications.vgg16 import preprocess_input"
   ]
  },
  {
   "cell_type": "code",
   "execution_count": 19,
   "metadata": {},
   "outputs": [],
   "source": [
    "def atoi(text):\n",
    "    return int(text) if text.isdigit() else text\n",
    "def natural_keys(text):\n",
    "    return [atoi(c) for c in re.split('(\\d+)', text)]"
   ]
  },
  {
   "cell_type": "code",
   "execution_count": 20,
   "metadata": {},
   "outputs": [],
   "source": [
    "def draw_confusion_matrix(true,preds):\n",
    "    conf_matx = confusion_matrix(true, preds)\n",
    "    sns.heatmap(conf_matx, annot=True,annot_kws={\"size\": 12},fmt='g', cbar=False, cmap=plt.cm.Blues) #'viridis'\n",
    "    plt.savefig('/home/jovyan/img1.png')\n",
    "    plt.show()\n",
    "    \n",
    "    return conf_matx"
   ]
  },
  {
   "cell_type": "code",
   "execution_count": 21,
   "metadata": {},
   "outputs": [],
   "source": [
    "def plot_history(model_history, model_name):\n",
    "    fig = plt.figure(figsize=(15,5), facecolor='w')\n",
    "    ax = fig.add_subplot(121)\n",
    "    ax.plot(model_history.history['loss'])\n",
    "    ax.plot(model_history.history['val_loss'])\n",
    "    ax.set(title=model_name + ': Model loss', ylabel='Loss', xlabel='Epoch')\n",
    "    ax.legend(['Train', 'Val'], loc='upper left')\n",
    "    ax = fig.add_subplot(122)\n",
    "    ax.plot(model_history.history['accuracy'])\n",
    "    ax.plot(model_history.history['val_accuracy'])\n",
    "    ax.set(title=model_name + ': Model Accuracy; test='+ str(np.round(model_history.history['val_accuracy'][-1], 3)),\n",
    "           ylabel='Accuracy', xlabel='Epoch')\n",
    "    ax.legend(['Train', 'Val'], loc='upper left')\n",
    "    plt.savefig('/home/jovyan/img2.png')\n",
    "    plt.show()\n",
    "   \n",
    "    \n",
    "    return fig"
   ]
  },
  {
   "cell_type": "code",
   "execution_count": 22,
   "metadata": {},
   "outputs": [],
   "source": [
    "def loadImages(path_data, path_labels):\n",
    "\n",
    "    feat_list = []\n",
    "    \n",
    "\n",
    "    for filename in sorted(glob.glob(path_data), key=natural_keys): \n",
    "        feat_list.append(np.load(filename))\n",
    "\n",
    "    x_orig = np.reshape(feat_list, (len(feat_list),35, 64))\n",
    "    \n",
    "    path = path_labels     \n",
    "    labels = pd.read_csv(path, usecols=[\"Type\", \"Category\"],\n",
    "                       sep=\",\" )\n",
    "    y_orig = np.array(labels['Category'])\n",
    "\n",
    "    return x_orig, y_orig"
   ]
  },
  {
   "cell_type": "code",
   "execution_count": 23,
   "metadata": {},
   "outputs": [],
   "source": [
    "p_feat = '/home/jovyan/DATA_MASTER_PROJECT/LSTM/LST_vs_CNN/ADR_HRH/'\n",
    "\n",
    "train_data = p_feat + 'features_train/*.npy'\n",
    "train_lab= p_feat + 'lstm_train.csv'\n",
    "\n",
    "val_data = p_feat + 'features_validation/*.npy'\n",
    "val_lab = p_feat + 'lstm_validation.csv'\n",
    "\n",
    "\n",
    "test_data= p_feat + 'features_test/*.npy'\n",
    "test_lab= p_feat + 'lstm_test.csv'"
   ]
  },
  {
   "cell_type": "code",
   "execution_count": 37,
   "metadata": {},
   "outputs": [],
   "source": [
    "es = EarlyStopping(monitor='val_loss', mode='min', verbose=1, patience=3)"
   ]
  },
  {
   "cell_type": "code",
   "execution_count": 25,
   "metadata": {},
   "outputs": [
    {
     "data": {
      "text/plain": [
       "((1582, 35, 64), (1582,))"
      ]
     },
     "execution_count": 25,
     "metadata": {},
     "output_type": "execute_result"
    }
   ],
   "source": [
    "x_train, y_train = loadImages(train_data, train_lab)\n",
    "x_train.shape, y_train.shape"
   ]
  },
  {
   "cell_type": "code",
   "execution_count": 26,
   "metadata": {},
   "outputs": [
    {
     "data": {
      "text/plain": [
       "((419, 35, 64), (419,))"
      ]
     },
     "execution_count": 26,
     "metadata": {},
     "output_type": "execute_result"
    }
   ],
   "source": [
    "x_val, y_val = loadImages(val_data, val_lab)\n",
    "x_val.shape, y_val.shape"
   ]
  },
  {
   "cell_type": "code",
   "execution_count": 27,
   "metadata": {},
   "outputs": [
    {
     "data": {
      "text/plain": [
       "((518, 35, 64), (518,))"
      ]
     },
     "execution_count": 27,
     "metadata": {},
     "output_type": "execute_result"
    }
   ],
   "source": [
    "x_test, y_test = loadImages(test_data, test_lab)\n",
    "x_test.shape, y_test.shape"
   ]
  },
  {
   "cell_type": "code",
   "execution_count": 28,
   "metadata": {},
   "outputs": [
    {
     "data": {
      "text/plain": [
       "{0: 913, 1: 669}"
      ]
     },
     "execution_count": 28,
     "metadata": {},
     "output_type": "execute_result"
    }
   ],
   "source": [
    "unique, counts = np.unique(y_train, return_counts=True)\n",
    "dict(zip(unique, counts))"
   ]
  },
  {
   "cell_type": "code",
   "execution_count": 29,
   "metadata": {},
   "outputs": [
    {
     "name": "stdout",
     "output_type": "stream",
     "text": [
      "weights = [0.86637459 1.18236173]\n"
     ]
    }
   ],
   "source": [
    "weights = class_weight.compute_class_weight('balanced', np.unique(y_train),y_train)\n",
    "print('weights = ' + str(weights))"
   ]
  },
  {
   "cell_type": "code",
   "execution_count": 38,
   "metadata": {},
   "outputs": [
    {
     "name": "stdout",
     "output_type": "stream",
     "text": [
      "Model: \"sequential_2\"\n",
      "_________________________________________________________________\n",
      "Layer (type)                 Output Shape              Param #   \n",
      "=================================================================\n",
      "lstm_2 (LSTM)                (None, 64)                33024     \n",
      "_________________________________________________________________\n",
      "dropout_1 (Dropout)          (None, 64)                0         \n",
      "_________________________________________________________________\n",
      "dense_2 (Dense)              (None, 1)                 65        \n",
      "=================================================================\n",
      "Total params: 33,089\n",
      "Trainable params: 33,089\n",
      "Non-trainable params: 0\n",
      "_________________________________________________________________\n"
     ]
    }
   ],
   "source": [
    "m = Sequential()\n",
    "m.add(LSTM(64, input_shape = (x_train.shape[1],x_train.shape[2])))\n",
    "m.add(Dropout(0.2))\n",
    "m.add(Dense(1, activation='sigmoid'))\n",
    "m.summary()"
   ]
  },
  {
   "cell_type": "code",
   "execution_count": 39,
   "metadata": {},
   "outputs": [],
   "source": [
    "opt = keras.optimizers.Adam(lr=1e-4)\n",
    "\n",
    "m.compile(loss= keras.losses.binary_crossentropy, optimizer=opt, metrics = ['accuracy'])\n"
   ]
  },
  {
   "cell_type": "code",
   "execution_count": 40,
   "metadata": {
    "collapsed": true,
    "jupyter": {
     "outputs_hidden": true
    }
   },
   "outputs": [
    {
     "name": "stdout",
     "output_type": "stream",
     "text": [
      "Train on 1582 samples, validate on 419 samples\n",
      "Epoch 1/300\n",
      "1582/1582 [==============================] - 2s 1ms/sample - loss: 0.6180 - accuracy: 0.6757 - val_loss: 0.6345 - val_accuracy: 0.6277\n",
      "Epoch 2/300\n",
      "1582/1582 [==============================] - 0s 216us/sample - loss: 0.5147 - accuracy: 0.8097 - val_loss: 0.6081 - val_accuracy: 0.6659\n",
      "Epoch 3/300\n",
      "1582/1582 [==============================] - 0s 201us/sample - loss: 0.3944 - accuracy: 0.8786 - val_loss: 0.6133 - val_accuracy: 0.6802\n",
      "Epoch 4/300\n",
      "1582/1582 [==============================] - 0s 228us/sample - loss: 0.2652 - accuracy: 0.9178 - val_loss: 0.6841 - val_accuracy: 0.6730\n",
      "Epoch 5/300\n",
      "1582/1582 [==============================] - 0s 242us/sample - loss: 0.1959 - accuracy: 0.9298 - val_loss: 0.7629 - val_accuracy: 0.6778\n",
      "Epoch 6/300\n",
      "1582/1582 [==============================] - 0s 260us/sample - loss: 0.1687 - accuracy: 0.9387 - val_loss: 0.8081 - val_accuracy: 0.6921\n",
      "Epoch 7/300\n",
      "1582/1582 [==============================] - 0s 256us/sample - loss: 0.1563 - accuracy: 0.9425 - val_loss: 0.8326 - val_accuracy: 0.6826\n",
      "Epoch 8/300\n",
      "1582/1582 [==============================] - 0s 229us/sample - loss: 0.1446 - accuracy: 0.9513 - val_loss: 0.8527 - val_accuracy: 0.6969\n",
      "Epoch 9/300\n",
      "1582/1582 [==============================] - 0s 229us/sample - loss: 0.1365 - accuracy: 0.9539 - val_loss: 0.8826 - val_accuracy: 0.6874\n",
      "Epoch 10/300\n",
      "1582/1582 [==============================] - 0s 245us/sample - loss: 0.1255 - accuracy: 0.9602 - val_loss: 0.8960 - val_accuracy: 0.6802\n",
      "Epoch 11/300\n",
      "1582/1582 [==============================] - 0s 207us/sample - loss: 0.1220 - accuracy: 0.9621 - val_loss: 0.9165 - val_accuracy: 0.6850\n",
      "Epoch 12/300\n",
      "1582/1582 [==============================] - 0s 210us/sample - loss: 0.1126 - accuracy: 0.9627 - val_loss: 0.9303 - val_accuracy: 0.6850\n",
      "Epoch 13/300\n",
      "1582/1582 [==============================] - 0s 217us/sample - loss: 0.1086 - accuracy: 0.9640 - val_loss: 0.9460 - val_accuracy: 0.6850\n",
      "Epoch 14/300\n",
      "1582/1582 [==============================] - 0s 222us/sample - loss: 0.1025 - accuracy: 0.9646 - val_loss: 0.9649 - val_accuracy: 0.7064\n",
      "Epoch 15/300\n",
      "1582/1582 [==============================] - 0s 230us/sample - loss: 0.0941 - accuracy: 0.9703 - val_loss: 0.9892 - val_accuracy: 0.6850\n",
      "Epoch 16/300\n",
      "1582/1582 [==============================] - 0s 247us/sample - loss: 0.0900 - accuracy: 0.9697 - val_loss: 0.9969 - val_accuracy: 0.6897\n",
      "Epoch 17/300\n",
      "1582/1582 [==============================] - 0s 210us/sample - loss: 0.0843 - accuracy: 0.9741 - val_loss: 1.0272 - val_accuracy: 0.6874\n",
      "Epoch 18/300\n",
      "1582/1582 [==============================] - 0s 201us/sample - loss: 0.0811 - accuracy: 0.9760 - val_loss: 1.0437 - val_accuracy: 0.6945\n",
      "Epoch 19/300\n",
      "1582/1582 [==============================] - 0s 220us/sample - loss: 0.0788 - accuracy: 0.9766 - val_loss: 1.0645 - val_accuracy: 0.6945\n",
      "Epoch 20/300\n",
      "1582/1582 [==============================] - 0s 236us/sample - loss: 0.0718 - accuracy: 0.9791 - val_loss: 1.0769 - val_accuracy: 0.6897\n",
      "Epoch 21/300\n",
      "1582/1582 [==============================] - 0s 225us/sample - loss: 0.0686 - accuracy: 0.9798 - val_loss: 1.0906 - val_accuracy: 0.6945\n",
      "Epoch 22/300\n",
      "1582/1582 [==============================] - 0s 248us/sample - loss: 0.0648 - accuracy: 0.9836 - val_loss: 1.1396 - val_accuracy: 0.6826\n",
      "Epoch 00022: early stopping\n"
     ]
    }
   ],
   "source": [
    "epochs = 300\n",
    "\n",
    "m4_h = m.fit(x_train,y_train,\n",
    "                 \n",
    "                 callbacks = [es],\n",
    "                \n",
    "                epochs=epochs,\n",
    "                validation_data = (x_val,y_val), \n",
    "                \n",
    "                class_weight = weights)"
   ]
  },
  {
   "cell_type": "code",
   "execution_count": 41,
   "metadata": {},
   "outputs": [
    {
     "data": {
      "image/png": "[encoded data removed]",
      "text/plain": [
       "<Figure size 1080x360 with 2 Axes>"
      ]
     },
     "metadata": {},
     "output_type": "display_data"
    },
    {
     "data": {
      "image/png": "[encoded data removed]",
      "text/plain": [
       "<Figure size 1080x360 with 2 Axes>"
      ]
     },
     "execution_count": 41,
     "metadata": {},
     "output_type": "execute_result"
    }
   ],
   "source": [
    "plot_history(m4_h, 'first')"
   ]
  },
  {
   "cell_type": "code",
   "execution_count": 42,
   "metadata": {},
   "outputs": [
    {
     "name": "stdout",
     "output_type": "stream",
     "text": [
      "518/518 [==============================] - 0s 136us/sample - loss: 1.0736 - accuracy: 0.7104\n",
      "\n",
      "accuracy: 71.04%\n"
     ]
    }
   ],
   "source": [
    "scores = m.evaluate(x_test, y_test)\n",
    "print(\"\\n%s: %.2f%%\" % (m.metrics_names[1], scores[1]*100))"
   ]
  },
  {
   "cell_type": "markdown",
   "metadata": {},
   "source": [
    "# For Binary Classification"
   ]
  },
  {
   "cell_type": "code",
   "execution_count": 43,
   "metadata": {},
   "outputs": [
    {
     "data": {
      "image/png": "[encoded data removed]",
      "text/plain": [
       "<Figure size 432x288 with 1 Axes>"
      ]
     },
     "metadata": {
      "needs_background": "light"
     },
     "output_type": "display_data"
    },
    {
     "data": {
      "text/plain": [
       "array([[215,  80],\n",
       "       [ 70, 153]])"
      ]
     },
     "execution_count": 43,
     "metadata": {},
     "output_type": "execute_result"
    }
   ],
   "source": [
    "test_preds = m.predict(x_test)\n",
    "\n",
    "t= []\n",
    "for i in (test_preds):\n",
    "    if i > 0.5:\n",
    "        t.append(1)\n",
    "    else:\n",
    "        t.append(0)\n",
    "\n",
    "draw_confusion_matrix(y_test, t)"
   ]
  },
  {
   "cell_type": "code",
   "execution_count": 44,
   "metadata": {},
   "outputs": [
    {
     "name": "stdout",
     "output_type": "stream",
     "text": [
      "              precision    recall  f1-score   support\n",
      "\n",
      "           0       0.75      0.73      0.74       295\n",
      "           1       0.66      0.69      0.67       223\n",
      "\n",
      "    accuracy                           0.71       518\n",
      "   macro avg       0.71      0.71      0.71       518\n",
      "weighted avg       0.71      0.71      0.71       518\n",
      "\n"
     ]
    }
   ],
   "source": [
    "print(classification_report(y_test, t))"
   ]
  },
  {
   "cell_type": "code",
   "execution_count": null,
   "metadata": {},
   "outputs": [],
   "source": []
  },
  {
   "cell_type": "code",
   "execution_count": null,
   "metadata": {},
   "outputs": [],
   "source": []
  }
 ],
 "metadata": {
  "kernelspec": {
   "display_name": "Python 3",
   "language": "python",
   "name": "python3"
  },
  "language_info": {
   "codemirror_mode": {
    "name": "ipython",
    "version": 3
   },
   "file_extension": ".py",
   "mimetype": "text/x-python",
   "name": "python",
   "nbconvert_exporter": "python",
   "pygments_lexer": "ipython3",
   "version": "3.6.9"
  }
 },
 "nbformat": 4,
 "nbformat_minor": 4
}
